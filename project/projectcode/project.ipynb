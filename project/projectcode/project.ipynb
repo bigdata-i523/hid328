{
 "cells": [
  {
   "cell_type": "markdown",
   "metadata": {},
   "source": []
  },
  {
   "cell_type": "code",
   "execution_count": 1,
   "metadata": {},
   "outputs": [],
   "source": [
    "from pyspark.sql.functions import UserDefinedFunction\n",
    "from pyspark.sql.types import IntegerType\n",
    "from pyspark.sql.functions import col\n",
    "from pyspark.mllib.stat import Statistics\n",
    "from pyspark.sql.types import *\n",
    "from pyspark.sql.functions import stddev_pop, avg,stddev\n",
    "from pyspark.ml.classification import LogisticRegression, DecisionTreeClassifier\n",
    "from pyspark.ml.regression import GeneralizedLinearRegression\n",
    "from pyspark.ml import Pipeline\n",
    "from pyspark.ml.linalg import Vectors\n",
    "from pyspark.ml.evaluation import MulticlassClassificationEvaluator\n",
    "from pyspark.mllib.evaluation import MulticlassMetrics\n",
    "from pyspark.mllib.tree import DecisionTree, DecisionTreeModel\n",
    "from pyspark.mllib.regression import LabeledPoint\n",
    "from pyspark.ml.tuning import ParamGridBuilder, CrossValidator\n",
    "from pyspark.ml.classification import RandomForestClassifier\n",
    "import pyspark.sql.functions as F\n",
    "from pyspark.mllib.linalg import Matrices\n",
    "from pyspark.ml.stat import ChiSquareTest\n",
    "from pyspark.sql import SparkSession"
   ]
  },
  {
   "cell_type": "code",
   "execution_count": 2,
   "metadata": {},
   "outputs": [],
   "source": [
    "import pandas as pd\n",
    "import matplotlib.pyplot as plt\n",
    "import seaborn as sn\n",
    "import numpy as np"
   ]
  },
  {
   "cell_type": "code",
   "execution_count": 3,
   "metadata": {},
   "outputs": [],
   "source": [
    "#Data = pd.read_csv(\"https://github.com/bigdata-i523/hid328/blob/master/project/data/german_credit.csv\")\n",
    "Data = pd.read_csv(\"../data/credit_data.csv\")"
   ]
  },
  {
   "cell_type": "code",
   "execution_count": 4,
   "metadata": {},
   "outputs": [
    {
     "data": {
      "text/html": [
       "<div>\n",
       "<style scoped>\n",
       "    .dataframe tbody tr th:only-of-type {\n",
       "        vertical-align: middle;\n",
       "    }\n",
       "\n",
       "    .dataframe tbody tr th {\n",
       "        vertical-align: top;\n",
       "    }\n",
       "\n",
       "    .dataframe thead th {\n",
       "        text-align: right;\n",
       "    }\n",
       "</style>\n",
       "<table border=\"1\" class=\"dataframe\">\n",
       "  <thead>\n",
       "    <tr style=\"text-align: right;\">\n",
       "      <th></th>\n",
       "      <th>Creditability</th>\n",
       "      <th>Account_Balance</th>\n",
       "      <th>Duration_of_Credit</th>\n",
       "      <th>credit_history</th>\n",
       "      <th>purpose</th>\n",
       "      <th>credit_amount</th>\n",
       "      <th>savings_status</th>\n",
       "      <th>employment</th>\n",
       "      <th>installment_commitment</th>\n",
       "      <th>personal_status</th>\n",
       "      <th>...</th>\n",
       "      <th>residence_since</th>\n",
       "      <th>property_magnitude</th>\n",
       "      <th>age</th>\n",
       "      <th>other_payment_plans</th>\n",
       "      <th>housing</th>\n",
       "      <th>existing_credits</th>\n",
       "      <th>job</th>\n",
       "      <th>num_dependents</th>\n",
       "      <th>own_telephone</th>\n",
       "      <th>foreign_worker</th>\n",
       "    </tr>\n",
       "  </thead>\n",
       "  <tbody>\n",
       "    <tr>\n",
       "      <th>0</th>\n",
       "      <td>good</td>\n",
       "      <td>-1</td>\n",
       "      <td>6</td>\n",
       "      <td>critical/other existing credit</td>\n",
       "      <td>radio/tv</td>\n",
       "      <td>1169</td>\n",
       "      <td>no known savings</td>\n",
       "      <td>15</td>\n",
       "      <td>47</td>\n",
       "      <td>male single</td>\n",
       "      <td>...</td>\n",
       "      <td>4</td>\n",
       "      <td>real estate</td>\n",
       "      <td>67</td>\n",
       "      <td>none</td>\n",
       "      <td>own</td>\n",
       "      <td>2</td>\n",
       "      <td>skilled</td>\n",
       "      <td>1</td>\n",
       "      <td>yes</td>\n",
       "      <td>yes</td>\n",
       "    </tr>\n",
       "    <tr>\n",
       "      <th>1</th>\n",
       "      <td>bad</td>\n",
       "      <td>13</td>\n",
       "      <td>48</td>\n",
       "      <td>existing paid</td>\n",
       "      <td>radio/tv</td>\n",
       "      <td>5951</td>\n",
       "      <td>10</td>\n",
       "      <td>3</td>\n",
       "      <td>25</td>\n",
       "      <td>female div/dep/mar</td>\n",
       "      <td>...</td>\n",
       "      <td>2</td>\n",
       "      <td>real estate</td>\n",
       "      <td>22</td>\n",
       "      <td>none</td>\n",
       "      <td>own</td>\n",
       "      <td>1</td>\n",
       "      <td>skilled</td>\n",
       "      <td>1</td>\n",
       "      <td>none</td>\n",
       "      <td>yes</td>\n",
       "    </tr>\n",
       "    <tr>\n",
       "      <th>2</th>\n",
       "      <td>good</td>\n",
       "      <td>no checking</td>\n",
       "      <td>12</td>\n",
       "      <td>critical/other existing credit</td>\n",
       "      <td>education</td>\n",
       "      <td>2096</td>\n",
       "      <td>75</td>\n",
       "      <td>4</td>\n",
       "      <td>29</td>\n",
       "      <td>male single</td>\n",
       "      <td>...</td>\n",
       "      <td>3</td>\n",
       "      <td>real estate</td>\n",
       "      <td>49</td>\n",
       "      <td>none</td>\n",
       "      <td>own</td>\n",
       "      <td>1</td>\n",
       "      <td>unskilled resident</td>\n",
       "      <td>2</td>\n",
       "      <td>none</td>\n",
       "      <td>yes</td>\n",
       "    </tr>\n",
       "    <tr>\n",
       "      <th>3</th>\n",
       "      <td>good</td>\n",
       "      <td>-1</td>\n",
       "      <td>42</td>\n",
       "      <td>existing paid</td>\n",
       "      <td>furniture/equipment</td>\n",
       "      <td>7882</td>\n",
       "      <td>1</td>\n",
       "      <td>4</td>\n",
       "      <td>34</td>\n",
       "      <td>male single</td>\n",
       "      <td>...</td>\n",
       "      <td>4</td>\n",
       "      <td>life insurance</td>\n",
       "      <td>45</td>\n",
       "      <td>none</td>\n",
       "      <td>for free</td>\n",
       "      <td>1</td>\n",
       "      <td>skilled</td>\n",
       "      <td>2</td>\n",
       "      <td>none</td>\n",
       "      <td>yes</td>\n",
       "    </tr>\n",
       "    <tr>\n",
       "      <th>4</th>\n",
       "      <td>bad</td>\n",
       "      <td>-1</td>\n",
       "      <td>24</td>\n",
       "      <td>delayed previously</td>\n",
       "      <td>new car</td>\n",
       "      <td>4870</td>\n",
       "      <td>60</td>\n",
       "      <td>2</td>\n",
       "      <td>21</td>\n",
       "      <td>male single</td>\n",
       "      <td>...</td>\n",
       "      <td>4</td>\n",
       "      <td>no known property</td>\n",
       "      <td>53</td>\n",
       "      <td>none</td>\n",
       "      <td>for free</td>\n",
       "      <td>2</td>\n",
       "      <td>skilled</td>\n",
       "      <td>2</td>\n",
       "      <td>none</td>\n",
       "      <td>yes</td>\n",
       "    </tr>\n",
       "    <tr>\n",
       "      <th>5</th>\n",
       "      <td>good</td>\n",
       "      <td>no checking</td>\n",
       "      <td>36</td>\n",
       "      <td>existing paid</td>\n",
       "      <td>education</td>\n",
       "      <td>9055</td>\n",
       "      <td>no known savings</td>\n",
       "      <td>1</td>\n",
       "      <td>34</td>\n",
       "      <td>male single</td>\n",
       "      <td>...</td>\n",
       "      <td>4</td>\n",
       "      <td>no known property</td>\n",
       "      <td>35</td>\n",
       "      <td>none</td>\n",
       "      <td>for free</td>\n",
       "      <td>1</td>\n",
       "      <td>unskilled resident</td>\n",
       "      <td>2</td>\n",
       "      <td>yes</td>\n",
       "      <td>yes</td>\n",
       "    </tr>\n",
       "    <tr>\n",
       "      <th>6</th>\n",
       "      <td>good</td>\n",
       "      <td>no checking</td>\n",
       "      <td>24</td>\n",
       "      <td>existing paid</td>\n",
       "      <td>furniture/equipment</td>\n",
       "      <td>2835</td>\n",
       "      <td>693</td>\n",
       "      <td>17</td>\n",
       "      <td>20</td>\n",
       "      <td>male single</td>\n",
       "      <td>...</td>\n",
       "      <td>4</td>\n",
       "      <td>life insurance</td>\n",
       "      <td>53</td>\n",
       "      <td>none</td>\n",
       "      <td>own</td>\n",
       "      <td>1</td>\n",
       "      <td>skilled</td>\n",
       "      <td>1</td>\n",
       "      <td>none</td>\n",
       "      <td>yes</td>\n",
       "    </tr>\n",
       "    <tr>\n",
       "      <th>7</th>\n",
       "      <td>good</td>\n",
       "      <td>65</td>\n",
       "      <td>36</td>\n",
       "      <td>existing paid</td>\n",
       "      <td>used car</td>\n",
       "      <td>6948</td>\n",
       "      <td>83</td>\n",
       "      <td>2</td>\n",
       "      <td>29</td>\n",
       "      <td>male single</td>\n",
       "      <td>...</td>\n",
       "      <td>2</td>\n",
       "      <td>car</td>\n",
       "      <td>35</td>\n",
       "      <td>none</td>\n",
       "      <td>rent</td>\n",
       "      <td>1</td>\n",
       "      <td>high qualif/self emp/mgmt</td>\n",
       "      <td>1</td>\n",
       "      <td>yes</td>\n",
       "      <td>yes</td>\n",
       "    </tr>\n",
       "    <tr>\n",
       "      <th>8</th>\n",
       "      <td>good</td>\n",
       "      <td>no checking</td>\n",
       "      <td>12</td>\n",
       "      <td>existing paid</td>\n",
       "      <td>radio/tv</td>\n",
       "      <td>3059</td>\n",
       "      <td>2447</td>\n",
       "      <td>6</td>\n",
       "      <td>30</td>\n",
       "      <td>male div/sep</td>\n",
       "      <td>...</td>\n",
       "      <td>4</td>\n",
       "      <td>real estate</td>\n",
       "      <td>61</td>\n",
       "      <td>none</td>\n",
       "      <td>own</td>\n",
       "      <td>1</td>\n",
       "      <td>unskilled resident</td>\n",
       "      <td>1</td>\n",
       "      <td>none</td>\n",
       "      <td>yes</td>\n",
       "    </tr>\n",
       "    <tr>\n",
       "      <th>9</th>\n",
       "      <td>bad</td>\n",
       "      <td>41</td>\n",
       "      <td>30</td>\n",
       "      <td>critical/other existing credit</td>\n",
       "      <td>new car</td>\n",
       "      <td>5234</td>\n",
       "      <td>67</td>\n",
       "      <td>unemployed</td>\n",
       "      <td>6</td>\n",
       "      <td>male mar/wid</td>\n",
       "      <td>...</td>\n",
       "      <td>2</td>\n",
       "      <td>car</td>\n",
       "      <td>28</td>\n",
       "      <td>none</td>\n",
       "      <td>own</td>\n",
       "      <td>2</td>\n",
       "      <td>high qualif/self emp/mgmt</td>\n",
       "      <td>1</td>\n",
       "      <td>none</td>\n",
       "      <td>yes</td>\n",
       "    </tr>\n",
       "  </tbody>\n",
       "</table>\n",
       "<p>10 rows × 21 columns</p>\n",
       "</div>"
      ],
      "text/plain": [
       "  Creditability Account_Balance  Duration_of_Credit  \\\n",
       "0          good              -1                   6   \n",
       "1           bad              13                  48   \n",
       "2          good     no checking                  12   \n",
       "3          good              -1                  42   \n",
       "4           bad              -1                  24   \n",
       "5          good     no checking                  36   \n",
       "6          good     no checking                  24   \n",
       "7          good              65                  36   \n",
       "8          good     no checking                  12   \n",
       "9           bad              41                  30   \n",
       "\n",
       "                   credit_history              purpose  credit_amount  \\\n",
       "0  critical/other existing credit             radio/tv           1169   \n",
       "1                   existing paid             radio/tv           5951   \n",
       "2  critical/other existing credit            education           2096   \n",
       "3                   existing paid  furniture/equipment           7882   \n",
       "4              delayed previously              new car           4870   \n",
       "5                   existing paid            education           9055   \n",
       "6                   existing paid  furniture/equipment           2835   \n",
       "7                   existing paid             used car           6948   \n",
       "8                   existing paid             radio/tv           3059   \n",
       "9  critical/other existing credit              new car           5234   \n",
       "\n",
       "     savings_status  employment  installment_commitment     personal_status  \\\n",
       "0  no known savings          15                      47         male single   \n",
       "1                10           3                      25  female div/dep/mar   \n",
       "2                75           4                      29         male single   \n",
       "3                 1           4                      34         male single   \n",
       "4                60           2                      21         male single   \n",
       "5  no known savings           1                      34         male single   \n",
       "6               693          17                      20         male single   \n",
       "7                83           2                      29         male single   \n",
       "8              2447           6                      30        male div/sep   \n",
       "9                67  unemployed                       6        male mar/wid   \n",
       "\n",
       "       ...       residence_since  property_magnitude age  other_payment_plans  \\\n",
       "0      ...                     4         real estate  67                 none   \n",
       "1      ...                     2         real estate  22                 none   \n",
       "2      ...                     3         real estate  49                 none   \n",
       "3      ...                     4      life insurance  45                 none   \n",
       "4      ...                     4   no known property  53                 none   \n",
       "5      ...                     4   no known property  35                 none   \n",
       "6      ...                     4      life insurance  53                 none   \n",
       "7      ...                     2                 car  35                 none   \n",
       "8      ...                     4         real estate  61                 none   \n",
       "9      ...                     2                 car  28                 none   \n",
       "\n",
       "    housing existing_credits                        job num_dependents  \\\n",
       "0       own                2                    skilled              1   \n",
       "1       own                1                    skilled              1   \n",
       "2       own                1         unskilled resident              2   \n",
       "3  for free                1                    skilled              2   \n",
       "4  for free                2                    skilled              2   \n",
       "5  for free                1         unskilled resident              2   \n",
       "6       own                1                    skilled              1   \n",
       "7      rent                1  high qualif/self emp/mgmt              1   \n",
       "8       own                1         unskilled resident              1   \n",
       "9       own                2  high qualif/self emp/mgmt              1   \n",
       "\n",
       "   own_telephone foreign_worker  \n",
       "0            yes            yes  \n",
       "1           none            yes  \n",
       "2           none            yes  \n",
       "3           none            yes  \n",
       "4           none            yes  \n",
       "5            yes            yes  \n",
       "6           none            yes  \n",
       "7            yes            yes  \n",
       "8           none            yes  \n",
       "9           none            yes  \n",
       "\n",
       "[10 rows x 21 columns]"
      ]
     },
     "execution_count": 4,
     "metadata": {},
     "output_type": "execute_result"
    }
   ],
   "source": [
    "Data.head(10)"
   ]
  },
  {
   "cell_type": "code",
   "execution_count": 5,
   "metadata": {},
   "outputs": [],
   "source": [
    "%matplotlib inline\n",
    "sn.set(color_codes=True)"
   ]
  },
  {
   "cell_type": "code",
   "execution_count": 6,
   "metadata": {},
   "outputs": [],
   "source": [
    "\n",
    "spark = SparkSession.builder.appName(\"analytics\").master(\"local\").getOrCreate()\n",
    "csvDF = spark.read.format(\"csv\").option(\"header\",\"true\").option(\"inferSchema\", \"true\").load(\"../data/german_credit.csv\")"
   ]
  },
  {
   "cell_type": "code",
   "execution_count": 7,
   "metadata": {},
   "outputs": [],
   "source": [
    "csvPandas=csvDF.toPandas()"
   ]
  },
  {
   "cell_type": "code",
   "execution_count": 8,
   "metadata": {},
   "outputs": [
    {
     "data": {
      "text/html": [
       "<div>\n",
       "<style>\n",
       "    .dataframe thead tr:only-child th {\n",
       "        text-align: right;\n",
       "    }\n",
       "\n",
       "    .dataframe thead th {\n",
       "        text-align: left;\n",
       "    }\n",
       "\n",
       "    .dataframe tbody tr th {\n",
       "        vertical-align: top;\n",
       "    }\n",
       "</style>\n",
       "<table border=\"1\" class=\"dataframe\">\n",
       "  <thead>\n",
       "    <tr style=\"text-align: right;\">\n",
       "      <th></th>\n",
       "      <th>Creditability</th>\n",
       "      <th>Account_Balance</th>\n",
       "      <th>Duration_of_Credit</th>\n",
       "      <th>Previous_Credit</th>\n",
       "      <th>Purpose</th>\n",
       "      <th>Credit_Amount</th>\n",
       "      <th>Value_Savings_Stocks</th>\n",
       "      <th>employment</th>\n",
       "      <th>Instalment_percent</th>\n",
       "      <th>Sex_MaritalStatus</th>\n",
       "      <th>...</th>\n",
       "      <th>Duration_address</th>\n",
       "      <th>asset</th>\n",
       "      <th>Age</th>\n",
       "      <th>Concurrent_Credits</th>\n",
       "      <th>Type_apartment</th>\n",
       "      <th>No_of_Credits</th>\n",
       "      <th>Occupation</th>\n",
       "      <th>dependents</th>\n",
       "      <th>Telephone</th>\n",
       "      <th>Foreign Worker</th>\n",
       "    </tr>\n",
       "  </thead>\n",
       "  <tbody>\n",
       "    <tr>\n",
       "      <th>0</th>\n",
       "      <td>1</td>\n",
       "      <td>1</td>\n",
       "      <td>18</td>\n",
       "      <td>4</td>\n",
       "      <td>2</td>\n",
       "      <td>1049</td>\n",
       "      <td>1</td>\n",
       "      <td>2</td>\n",
       "      <td>4</td>\n",
       "      <td>2</td>\n",
       "      <td>...</td>\n",
       "      <td>4</td>\n",
       "      <td>2</td>\n",
       "      <td>21</td>\n",
       "      <td>3</td>\n",
       "      <td>1</td>\n",
       "      <td>1</td>\n",
       "      <td>3</td>\n",
       "      <td>1</td>\n",
       "      <td>1</td>\n",
       "      <td>1</td>\n",
       "    </tr>\n",
       "    <tr>\n",
       "      <th>1</th>\n",
       "      <td>1</td>\n",
       "      <td>1</td>\n",
       "      <td>9</td>\n",
       "      <td>4</td>\n",
       "      <td>0</td>\n",
       "      <td>2799</td>\n",
       "      <td>1</td>\n",
       "      <td>3</td>\n",
       "      <td>2</td>\n",
       "      <td>3</td>\n",
       "      <td>...</td>\n",
       "      <td>2</td>\n",
       "      <td>1</td>\n",
       "      <td>36</td>\n",
       "      <td>3</td>\n",
       "      <td>1</td>\n",
       "      <td>2</td>\n",
       "      <td>3</td>\n",
       "      <td>2</td>\n",
       "      <td>1</td>\n",
       "      <td>1</td>\n",
       "    </tr>\n",
       "    <tr>\n",
       "      <th>2</th>\n",
       "      <td>1</td>\n",
       "      <td>2</td>\n",
       "      <td>12</td>\n",
       "      <td>2</td>\n",
       "      <td>9</td>\n",
       "      <td>841</td>\n",
       "      <td>2</td>\n",
       "      <td>4</td>\n",
       "      <td>2</td>\n",
       "      <td>2</td>\n",
       "      <td>...</td>\n",
       "      <td>4</td>\n",
       "      <td>1</td>\n",
       "      <td>23</td>\n",
       "      <td>3</td>\n",
       "      <td>1</td>\n",
       "      <td>1</td>\n",
       "      <td>2</td>\n",
       "      <td>1</td>\n",
       "      <td>1</td>\n",
       "      <td>1</td>\n",
       "    </tr>\n",
       "    <tr>\n",
       "      <th>3</th>\n",
       "      <td>1</td>\n",
       "      <td>1</td>\n",
       "      <td>12</td>\n",
       "      <td>4</td>\n",
       "      <td>0</td>\n",
       "      <td>2122</td>\n",
       "      <td>1</td>\n",
       "      <td>3</td>\n",
       "      <td>3</td>\n",
       "      <td>3</td>\n",
       "      <td>...</td>\n",
       "      <td>2</td>\n",
       "      <td>1</td>\n",
       "      <td>39</td>\n",
       "      <td>3</td>\n",
       "      <td>1</td>\n",
       "      <td>2</td>\n",
       "      <td>2</td>\n",
       "      <td>2</td>\n",
       "      <td>1</td>\n",
       "      <td>2</td>\n",
       "    </tr>\n",
       "    <tr>\n",
       "      <th>4</th>\n",
       "      <td>1</td>\n",
       "      <td>1</td>\n",
       "      <td>12</td>\n",
       "      <td>4</td>\n",
       "      <td>0</td>\n",
       "      <td>2171</td>\n",
       "      <td>1</td>\n",
       "      <td>3</td>\n",
       "      <td>4</td>\n",
       "      <td>3</td>\n",
       "      <td>...</td>\n",
       "      <td>4</td>\n",
       "      <td>2</td>\n",
       "      <td>38</td>\n",
       "      <td>1</td>\n",
       "      <td>2</td>\n",
       "      <td>2</td>\n",
       "      <td>2</td>\n",
       "      <td>1</td>\n",
       "      <td>1</td>\n",
       "      <td>2</td>\n",
       "    </tr>\n",
       "    <tr>\n",
       "      <th>5</th>\n",
       "      <td>1</td>\n",
       "      <td>1</td>\n",
       "      <td>10</td>\n",
       "      <td>4</td>\n",
       "      <td>0</td>\n",
       "      <td>2241</td>\n",
       "      <td>1</td>\n",
       "      <td>2</td>\n",
       "      <td>1</td>\n",
       "      <td>3</td>\n",
       "      <td>...</td>\n",
       "      <td>3</td>\n",
       "      <td>1</td>\n",
       "      <td>48</td>\n",
       "      <td>3</td>\n",
       "      <td>1</td>\n",
       "      <td>2</td>\n",
       "      <td>2</td>\n",
       "      <td>2</td>\n",
       "      <td>1</td>\n",
       "      <td>2</td>\n",
       "    </tr>\n",
       "    <tr>\n",
       "      <th>6</th>\n",
       "      <td>1</td>\n",
       "      <td>1</td>\n",
       "      <td>8</td>\n",
       "      <td>4</td>\n",
       "      <td>0</td>\n",
       "      <td>3398</td>\n",
       "      <td>1</td>\n",
       "      <td>4</td>\n",
       "      <td>1</td>\n",
       "      <td>3</td>\n",
       "      <td>...</td>\n",
       "      <td>4</td>\n",
       "      <td>1</td>\n",
       "      <td>39</td>\n",
       "      <td>3</td>\n",
       "      <td>2</td>\n",
       "      <td>2</td>\n",
       "      <td>2</td>\n",
       "      <td>1</td>\n",
       "      <td>1</td>\n",
       "      <td>2</td>\n",
       "    </tr>\n",
       "    <tr>\n",
       "      <th>7</th>\n",
       "      <td>1</td>\n",
       "      <td>1</td>\n",
       "      <td>6</td>\n",
       "      <td>4</td>\n",
       "      <td>0</td>\n",
       "      <td>1361</td>\n",
       "      <td>1</td>\n",
       "      <td>2</td>\n",
       "      <td>2</td>\n",
       "      <td>3</td>\n",
       "      <td>...</td>\n",
       "      <td>4</td>\n",
       "      <td>1</td>\n",
       "      <td>40</td>\n",
       "      <td>3</td>\n",
       "      <td>2</td>\n",
       "      <td>1</td>\n",
       "      <td>2</td>\n",
       "      <td>2</td>\n",
       "      <td>1</td>\n",
       "      <td>2</td>\n",
       "    </tr>\n",
       "    <tr>\n",
       "      <th>8</th>\n",
       "      <td>1</td>\n",
       "      <td>4</td>\n",
       "      <td>18</td>\n",
       "      <td>4</td>\n",
       "      <td>3</td>\n",
       "      <td>1098</td>\n",
       "      <td>1</td>\n",
       "      <td>1</td>\n",
       "      <td>4</td>\n",
       "      <td>2</td>\n",
       "      <td>...</td>\n",
       "      <td>4</td>\n",
       "      <td>3</td>\n",
       "      <td>65</td>\n",
       "      <td>3</td>\n",
       "      <td>2</td>\n",
       "      <td>2</td>\n",
       "      <td>1</td>\n",
       "      <td>1</td>\n",
       "      <td>1</td>\n",
       "      <td>1</td>\n",
       "    </tr>\n",
       "    <tr>\n",
       "      <th>9</th>\n",
       "      <td>1</td>\n",
       "      <td>2</td>\n",
       "      <td>24</td>\n",
       "      <td>2</td>\n",
       "      <td>3</td>\n",
       "      <td>3758</td>\n",
       "      <td>3</td>\n",
       "      <td>1</td>\n",
       "      <td>1</td>\n",
       "      <td>2</td>\n",
       "      <td>...</td>\n",
       "      <td>4</td>\n",
       "      <td>4</td>\n",
       "      <td>23</td>\n",
       "      <td>3</td>\n",
       "      <td>1</td>\n",
       "      <td>1</td>\n",
       "      <td>1</td>\n",
       "      <td>1</td>\n",
       "      <td>1</td>\n",
       "      <td>1</td>\n",
       "    </tr>\n",
       "  </tbody>\n",
       "</table>\n",
       "<p>10 rows × 21 columns</p>\n",
       "</div>"
      ],
      "text/plain": [
       "   Creditability  Account_Balance  Duration_of_Credit  Previous_Credit  \\\n",
       "0              1                1                  18                4   \n",
       "1              1                1                   9                4   \n",
       "2              1                2                  12                2   \n",
       "3              1                1                  12                4   \n",
       "4              1                1                  12                4   \n",
       "5              1                1                  10                4   \n",
       "6              1                1                   8                4   \n",
       "7              1                1                   6                4   \n",
       "8              1                4                  18                4   \n",
       "9              1                2                  24                2   \n",
       "\n",
       "   Purpose  Credit_Amount  Value_Savings_Stocks  employment  \\\n",
       "0        2           1049                     1           2   \n",
       "1        0           2799                     1           3   \n",
       "2        9            841                     2           4   \n",
       "3        0           2122                     1           3   \n",
       "4        0           2171                     1           3   \n",
       "5        0           2241                     1           2   \n",
       "6        0           3398                     1           4   \n",
       "7        0           1361                     1           2   \n",
       "8        3           1098                     1           1   \n",
       "9        3           3758                     3           1   \n",
       "\n",
       "   Instalment_percent  Sex_MaritalStatus       ...        Duration_address  \\\n",
       "0                   4                  2       ...                       4   \n",
       "1                   2                  3       ...                       2   \n",
       "2                   2                  2       ...                       4   \n",
       "3                   3                  3       ...                       2   \n",
       "4                   4                  3       ...                       4   \n",
       "5                   1                  3       ...                       3   \n",
       "6                   1                  3       ...                       4   \n",
       "7                   2                  3       ...                       4   \n",
       "8                   4                  2       ...                       4   \n",
       "9                   1                  2       ...                       4   \n",
       "\n",
       "   asset  Age  Concurrent_Credits  Type_apartment  No_of_Credits  Occupation  \\\n",
       "0      2   21                   3               1              1           3   \n",
       "1      1   36                   3               1              2           3   \n",
       "2      1   23                   3               1              1           2   \n",
       "3      1   39                   3               1              2           2   \n",
       "4      2   38                   1               2              2           2   \n",
       "5      1   48                   3               1              2           2   \n",
       "6      1   39                   3               2              2           2   \n",
       "7      1   40                   3               2              1           2   \n",
       "8      3   65                   3               2              2           1   \n",
       "9      4   23                   3               1              1           1   \n",
       "\n",
       "   dependents  Telephone  Foreign Worker  \n",
       "0           1          1               1  \n",
       "1           2          1               1  \n",
       "2           1          1               1  \n",
       "3           2          1               2  \n",
       "4           1          1               2  \n",
       "5           2          1               2  \n",
       "6           1          1               2  \n",
       "7           2          1               2  \n",
       "8           1          1               1  \n",
       "9           1          1               1  \n",
       "\n",
       "[10 rows x 21 columns]"
      ]
     },
     "execution_count": 8,
     "metadata": {},
     "output_type": "execute_result"
    }
   ],
   "source": [
    "csvPandas.head(10)"
   ]
  },
  {
   "cell_type": "code",
   "execution_count": 9,
   "metadata": {},
   "outputs": [
    {
     "data": {
      "text/plain": [
       "Text(0,0.5,u'Frequency')"
      ]
     },
     "execution_count": 9,
     "metadata": {},
     "output_type": "execute_result"
    },
    {
     "data": {
      "image/png": "[encoded data removed]",
      "text/plain": [
       "<matplotlib.figure.Figure at 0x10d8fbc90>"
      ]
     },
     "metadata": {},
     "output_type": "display_data"
    }
   ],
   "source": [
    "sn.distplot(csvPandas.Credit_Amount, kde = False,bins=10 )\n",
    "plt.title( \"Histogram of Credit Amount Disbursed\", fontsize = 15)\n",
    "plt.ylabel( \"Frequency\")\n"
   ]
  },
  {
   "cell_type": "code",
   "execution_count": 10,
   "metadata": {},
   "outputs": [
    {
     "data": {
      "text/plain": [
       "<seaborn.axisgrid.FacetGrid at 0x10d8a4b90>"
      ]
     },
     "execution_count": 10,
     "metadata": {},
     "output_type": "execute_result"
    },
    {
     "data": {
      "image/png": "[encoded data removed]",
      "text/plain": [
       "<matplotlib.figure.Figure at 0x10d8a4bd0>"
      ]
     },
     "metadata": {},
     "output_type": "display_data"
    }
   ],
   "source": [
    "g = sn.FacetGrid(csvPandas, col=\"Creditability\", size = 6)\n",
    "g.map(sn.distplot, \"Credit_Amount\", kde = False, bins = 10 )"
   ]
  },
  {
   "cell_type": "code",
   "execution_count": 11,
   "metadata": {},
   "outputs": [
    {
     "data": {
      "text/plain": [
       "Text(0,0.5,u'Frequency')"
      ]
     },
     "execution_count": 11,
     "metadata": {},
     "output_type": "execute_result"
    },
    {
     "data": {
      "image/png": "[encoded data removed]",
      "text/plain": [
       "<matplotlib.figure.Figure at 0x10dcead90>"
      ]
     },
     "metadata": {},
     "output_type": "display_data"
    }
   ],
   "source": [
    "sn.distplot(csvPandas.Duration_of_Credit, kde = False,bins=12)\n",
    "plt.title( \"Credit Month\", fontsize = 15)\n",
    "plt.ylabel( \"Frequency\")"
   ]
  },
  {
   "cell_type": "code",
   "execution_count": 12,
   "metadata": {},
   "outputs": [
    {
     "data": {
      "text/plain": [
       "<seaborn.axisgrid.FacetGrid at 0x10d934450>"
      ]
     },
     "execution_count": 12,
     "metadata": {},
     "output_type": "execute_result"
    },
    {
     "data": {
      "image/png": "[encoded data removed]",
      "text/plain": [
       "<matplotlib.figure.Figure at 0x10dedb210>"
      ]
     },
     "metadata": {},
     "output_type": "display_data"
    }
   ],
   "source": [
    "g = sn.FacetGrid(csvPandas, col=\"Creditability\", size = 6)\n",
    "g.map(sn.distplot, \"Duration_of_Credit\", kde = False, bins = 12)"
   ]
  },
  {
   "cell_type": "code",
   "execution_count": 65,
   "metadata": {},
   "outputs": [
    {
     "data": {
      "text/plain": [
       "Text(0,0.5,u'Frequency')"
      ]
     },
     "execution_count": 65,
     "metadata": {},
     "output_type": "execute_result"
    },
    {
     "data": {
      "image/png": "[encoded data removed]",
      "text/plain": [
       "<matplotlib.figure.Figure at 0x10e950510>"
      ]
     },
     "metadata": {},
     "output_type": "display_data"
    }
   ],
   "source": [
    "sn.distplot(csvPandas.Age, kde = False,bins=12)\n",
    "plt.title( \"Age\", fontsize = 15)\n",
    "plt.ylabel( \"Frequency\")"
   ]
  },
  {
   "cell_type": "code",
   "execution_count": 66,
   "metadata": {},
   "outputs": [
    {
     "data": {
      "text/plain": [
       "<seaborn.axisgrid.FacetGrid at 0x10e9504d0>"
      ]
     },
     "execution_count": 66,
     "metadata": {},
     "output_type": "execute_result"
    },
    {
     "data": {
      "image/png": "[encoded data removed]",
      "text/plain": [
       "<matplotlib.figure.Figure at 0x10e8f9550>"
      ]
     },
     "metadata": {},
     "output_type": "display_data"
    }
   ],
   "source": [
    "g = sn.FacetGrid(csvPandas, col=\"Creditability\", size = 6)\n",
    "g.map(sn.distplot, \"Age\", kde = False, bins = 8)"
   ]
  },
  {
   "cell_type": "code",
   "execution_count": 67,
   "metadata": {},
   "outputs": [
    {
     "name": "stdout",
     "output_type": "stream",
     "text": [
      "+-------------+-----+\n",
      "|Creditability|count|\n",
      "+-------------+-----+\n",
      "|            1|  700|\n",
      "|            0|  300|\n",
      "+-------------+-----+\n",
      "\n"
     ]
    }
   ],
   "source": [
    "csvDF.select(\"Creditability\").groupBy(\"Creditability\").count().show()"
   ]
  },
  {
   "cell_type": "code",
   "execution_count": 68,
   "metadata": {},
   "outputs": [
    {
     "data": {
      "text/html": [
       "<div>\n",
       "<style>\n",
       "    .dataframe thead tr:only-child th {\n",
       "        text-align: right;\n",
       "    }\n",
       "\n",
       "    .dataframe thead th {\n",
       "        text-align: left;\n",
       "    }\n",
       "\n",
       "    .dataframe tbody tr th {\n",
       "        vertical-align: top;\n",
       "    }\n",
       "</style>\n",
       "<table border=\"1\" class=\"dataframe\">\n",
       "  <thead>\n",
       "    <tr style=\"text-align: right;\">\n",
       "      <th></th>\n",
       "      <th>Min</th>\n",
       "      <th>1st Qu</th>\n",
       "      <th>Median</th>\n",
       "      <th>Mean</th>\n",
       "      <th>3rd Qu</th>\n",
       "      <th>Max</th>\n",
       "    </tr>\n",
       "  </thead>\n",
       "  <tbody>\n",
       "    <tr>\n",
       "      <th>0</th>\n",
       "      <td>250</td>\n",
       "      <td>1365.5</td>\n",
       "      <td>2319.5</td>\n",
       "      <td>3271.248</td>\n",
       "      <td>3972.25</td>\n",
       "      <td>18424</td>\n",
       "    </tr>\n",
       "  </tbody>\n",
       "</table>\n",
       "</div>"
      ],
      "text/plain": [
       "   Min  1st Qu  Median      Mean   3rd Qu    Max\n",
       "0  250  1365.5  2319.5  3271.248  3972.25  18424"
      ]
     },
     "execution_count": 68,
     "metadata": {},
     "output_type": "execute_result"
    }
   ],
   "source": [
    "rows=[]\n",
    "rows.append((csvPandas['Credit_Amount'].min(),csvPandas.Credit_Amount.quantile(.25),csvPandas['Credit_Amount'].median(),csvPandas['Credit_Amount'].mean(),csvPandas.Credit_Amount.quantile(.75),csvPandas['Credit_Amount'].max()))\n",
    "crAmountPerc = pd.DataFrame(rows,columns=[\"Min\",\"1st Qu\",\"Median\",\"Mean\",\"3rd Qu\",\"Max\"])\n",
    "crAmountPerc.head()"
   ]
  },
  {
   "cell_type": "code",
   "execution_count": 69,
   "metadata": {},
   "outputs": [
    {
     "data": {
      "text/html": [
       "<div>\n",
       "<style>\n",
       "    .dataframe thead tr:only-child th {\n",
       "        text-align: right;\n",
       "    }\n",
       "\n",
       "    .dataframe thead th {\n",
       "        text-align: left;\n",
       "    }\n",
       "\n",
       "    .dataframe tbody tr th {\n",
       "        vertical-align: top;\n",
       "    }\n",
       "</style>\n",
       "<table border=\"1\" class=\"dataframe\">\n",
       "  <thead>\n",
       "    <tr style=\"text-align: right;\">\n",
       "      <th></th>\n",
       "      <th>Min</th>\n",
       "      <th>1st Qu</th>\n",
       "      <th>Median</th>\n",
       "      <th>Mean</th>\n",
       "      <th>3rd Qu</th>\n",
       "      <th>Max</th>\n",
       "    </tr>\n",
       "  </thead>\n",
       "  <tbody>\n",
       "    <tr>\n",
       "      <th>0</th>\n",
       "      <td>4</td>\n",
       "      <td>12.0</td>\n",
       "      <td>18.0</td>\n",
       "      <td>20.903</td>\n",
       "      <td>24.0</td>\n",
       "      <td>72</td>\n",
       "    </tr>\n",
       "  </tbody>\n",
       "</table>\n",
       "</div>"
      ],
      "text/plain": [
       "   Min  1st Qu  Median    Mean  3rd Qu  Max\n",
       "0    4    12.0    18.0  20.903    24.0   72"
      ]
     },
     "execution_count": 69,
     "metadata": {},
     "output_type": "execute_result"
    }
   ],
   "source": [
    "dcrows=[]\n",
    "dcrows.append((csvPandas['Duration_of_Credit'].min(),csvPandas.Duration_of_Credit.quantile(.25),csvPandas['Duration_of_Credit'].median(),csvPandas['Duration_of_Credit'].mean(),csvPandas.Duration_of_Credit.quantile(.75),csvPandas['Duration_of_Credit'].max()))\n",
    "dcPerc = pd.DataFrame(dcrows,columns=[\"Min\",\"1st Qu\",\"Median\",\"Mean\",\"3rd Qu\",\"Max\"])\n",
    "dcPerc.head()"
   ]
  },
  {
   "cell_type": "code",
   "execution_count": 70,
   "metadata": {},
   "outputs": [
    {
     "data": {
      "text/html": [
       "<div>\n",
       "<style>\n",
       "    .dataframe thead tr:only-child th {\n",
       "        text-align: right;\n",
       "    }\n",
       "\n",
       "    .dataframe thead th {\n",
       "        text-align: left;\n",
       "    }\n",
       "\n",
       "    .dataframe tbody tr th {\n",
       "        vertical-align: top;\n",
       "    }\n",
       "</style>\n",
       "<table border=\"1\" class=\"dataframe\">\n",
       "  <thead>\n",
       "    <tr style=\"text-align: right;\">\n",
       "      <th></th>\n",
       "      <th>Min</th>\n",
       "      <th>1st Qu</th>\n",
       "      <th>Median</th>\n",
       "      <th>Mean</th>\n",
       "      <th>3rd Qu</th>\n",
       "      <th>Max</th>\n",
       "    </tr>\n",
       "  </thead>\n",
       "  <tbody>\n",
       "    <tr>\n",
       "      <th>0</th>\n",
       "      <td>19</td>\n",
       "      <td>27.0</td>\n",
       "      <td>33.0</td>\n",
       "      <td>35.542</td>\n",
       "      <td>42.0</td>\n",
       "      <td>75</td>\n",
       "    </tr>\n",
       "  </tbody>\n",
       "</table>\n",
       "</div>"
      ],
      "text/plain": [
       "   Min  1st Qu  Median    Mean  3rd Qu  Max\n",
       "0   19    27.0    33.0  35.542    42.0   75"
      ]
     },
     "execution_count": 70,
     "metadata": {},
     "output_type": "execute_result"
    }
   ],
   "source": [
    "Agerows=[]\n",
    "Agerows.append((csvPandas['Age'].min(),csvPandas.Age.quantile(.25),csvPandas['Age'].median(),csvPandas['Age'].mean(),csvPandas.Age.quantile(.75),csvPandas['Age'].max()))\n",
    "agePerc = pd.DataFrame(Agerows,columns=[\"Min\",\"1st Qu\",\"Median\",\"Mean\",\"3rd Qu\",\"Max\"])\n",
    "agePerc.head()"
   ]
  },
  {
   "cell_type": "code",
   "execution_count": 71,
   "metadata": {},
   "outputs": [],
   "source": [
    "data=csvDF.rdd.map(lambda x:(Vectors.dense(x[1:]), float(x[0]))).toDF([\"features\", \"label\"])"
   ]
  },
  {
   "cell_type": "code",
   "execution_count": 72,
   "metadata": {},
   "outputs": [],
   "source": [
    "r = ChiSquareTest.test(data, \"features\", \"label\").head()"
   ]
  },
  {
   "cell_type": "code",
   "execution_count": 73,
   "metadata": {},
   "outputs": [
    {
     "data": {
      "text/html": [
       "<div>\n",
       "<style>\n",
       "    .dataframe thead tr:only-child th {\n",
       "        text-align: right;\n",
       "    }\n",
       "\n",
       "    .dataframe thead th {\n",
       "        text-align: left;\n",
       "    }\n",
       "\n",
       "    .dataframe tbody tr th {\n",
       "        vertical-align: top;\n",
       "    }\n",
       "</style>\n",
       "<table border=\"1\" class=\"dataframe\">\n",
       "  <thead>\n",
       "    <tr style=\"text-align: right;\">\n",
       "      <th></th>\n",
       "      <th>All</th>\n",
       "      <th>Chi^2</th>\n",
       "      <th>D.F</th>\n",
       "      <th>PValues</th>\n",
       "    </tr>\n",
       "  </thead>\n",
       "  <tbody>\n",
       "    <tr>\n",
       "      <th>0</th>\n",
       "      <td>Account_Balance</td>\n",
       "      <td>123.720944</td>\n",
       "      <td>3</td>\n",
       "      <td>0.000000e+00</td>\n",
       "    </tr>\n",
       "    <tr>\n",
       "      <th>1</th>\n",
       "      <td>Duration_of_Credit</td>\n",
       "      <td>78.886937</td>\n",
       "      <td>32</td>\n",
       "      <td>7.784572e-06</td>\n",
       "    </tr>\n",
       "    <tr>\n",
       "      <th>2</th>\n",
       "      <td>Previous_Credit</td>\n",
       "      <td>61.691397</td>\n",
       "      <td>4</td>\n",
       "      <td>1.279199e-12</td>\n",
       "    </tr>\n",
       "    <tr>\n",
       "      <th>3</th>\n",
       "      <td>Purpose</td>\n",
       "      <td>33.356447</td>\n",
       "      <td>9</td>\n",
       "      <td>1.157491e-04</td>\n",
       "    </tr>\n",
       "    <tr>\n",
       "      <th>4</th>\n",
       "      <td>Credit_Amount</td>\n",
       "      <td>931.746032</td>\n",
       "      <td>922</td>\n",
       "      <td>4.045155e-01</td>\n",
       "    </tr>\n",
       "    <tr>\n",
       "      <th>5</th>\n",
       "      <td>Value_Savings_Stocks</td>\n",
       "      <td>36.098928</td>\n",
       "      <td>4</td>\n",
       "      <td>2.761214e-07</td>\n",
       "    </tr>\n",
       "    <tr>\n",
       "      <th>6</th>\n",
       "      <td>employment</td>\n",
       "      <td>18.368274</td>\n",
       "      <td>4</td>\n",
       "      <td>1.045452e-03</td>\n",
       "    </tr>\n",
       "    <tr>\n",
       "      <th>7</th>\n",
       "      <td>Instalment_percent</td>\n",
       "      <td>5.476792</td>\n",
       "      <td>3</td>\n",
       "      <td>1.400333e-01</td>\n",
       "    </tr>\n",
       "    <tr>\n",
       "      <th>8</th>\n",
       "      <td>Sex_MaritalStatus</td>\n",
       "      <td>9.605214</td>\n",
       "      <td>3</td>\n",
       "      <td>2.223801e-02</td>\n",
       "    </tr>\n",
       "    <tr>\n",
       "      <th>9</th>\n",
       "      <td>Guarantors</td>\n",
       "      <td>6.645367</td>\n",
       "      <td>2</td>\n",
       "      <td>3.605595e-02</td>\n",
       "    </tr>\n",
       "    <tr>\n",
       "      <th>10</th>\n",
       "      <td>Duration_address</td>\n",
       "      <td>0.749296</td>\n",
       "      <td>3</td>\n",
       "      <td>8.615521e-01</td>\n",
       "    </tr>\n",
       "    <tr>\n",
       "      <th>11</th>\n",
       "      <td>asset</td>\n",
       "      <td>23.719551</td>\n",
       "      <td>3</td>\n",
       "      <td>2.858442e-05</td>\n",
       "    </tr>\n",
       "    <tr>\n",
       "      <th>12</th>\n",
       "      <td>Age</td>\n",
       "      <td>57.626982</td>\n",
       "      <td>52</td>\n",
       "      <td>2.749531e-01</td>\n",
       "    </tr>\n",
       "    <tr>\n",
       "      <th>13</th>\n",
       "      <td>Concurrent_Credits</td>\n",
       "      <td>12.839188</td>\n",
       "      <td>2</td>\n",
       "      <td>1.629318e-03</td>\n",
       "    </tr>\n",
       "    <tr>\n",
       "      <th>14</th>\n",
       "      <td>Type_apartment</td>\n",
       "      <td>18.674005</td>\n",
       "      <td>2</td>\n",
       "      <td>8.810311e-05</td>\n",
       "    </tr>\n",
       "    <tr>\n",
       "      <th>15</th>\n",
       "      <td>No_of_Credits</td>\n",
       "      <td>2.671198</td>\n",
       "      <td>3</td>\n",
       "      <td>4.451441e-01</td>\n",
       "    </tr>\n",
       "    <tr>\n",
       "      <th>16</th>\n",
       "      <td>Occupation</td>\n",
       "      <td>1.885156</td>\n",
       "      <td>3</td>\n",
       "      <td>5.965816e-01</td>\n",
       "    </tr>\n",
       "    <tr>\n",
       "      <th>17</th>\n",
       "      <td>dependents</td>\n",
       "      <td>0.009089</td>\n",
       "      <td>1</td>\n",
       "      <td>9.240463e-01</td>\n",
       "    </tr>\n",
       "    <tr>\n",
       "      <th>18</th>\n",
       "      <td>Telephone</td>\n",
       "      <td>1.329783</td>\n",
       "      <td>1</td>\n",
       "      <td>2.488438e-01</td>\n",
       "    </tr>\n",
       "    <tr>\n",
       "      <th>19</th>\n",
       "      <td>Foreign Worker</td>\n",
       "      <td>6.737044</td>\n",
       "      <td>1</td>\n",
       "      <td>9.443096e-03</td>\n",
       "    </tr>\n",
       "  </tbody>\n",
       "</table>\n",
       "</div>"
      ],
      "text/plain": [
       "                     All       Chi^2  D.F       PValues\n",
       "0        Account_Balance  123.720944    3  0.000000e+00\n",
       "1     Duration_of_Credit   78.886937   32  7.784572e-06\n",
       "2        Previous_Credit   61.691397    4  1.279199e-12\n",
       "3                Purpose   33.356447    9  1.157491e-04\n",
       "4          Credit_Amount  931.746032  922  4.045155e-01\n",
       "5   Value_Savings_Stocks   36.098928    4  2.761214e-07\n",
       "6             employment   18.368274    4  1.045452e-03\n",
       "7     Instalment_percent    5.476792    3  1.400333e-01\n",
       "8      Sex_MaritalStatus    9.605214    3  2.223801e-02\n",
       "9             Guarantors    6.645367    2  3.605595e-02\n",
       "10      Duration_address    0.749296    3  8.615521e-01\n",
       "11                 asset   23.719551    3  2.858442e-05\n",
       "12                   Age   57.626982   52  2.749531e-01\n",
       "13    Concurrent_Credits   12.839188    2  1.629318e-03\n",
       "14        Type_apartment   18.674005    2  8.810311e-05\n",
       "15         No_of_Credits    2.671198    3  4.451441e-01\n",
       "16            Occupation    1.885156    3  5.965816e-01\n",
       "17            dependents    0.009089    1  9.240463e-01\n",
       "18             Telephone    1.329783    1  2.488438e-01\n",
       "19        Foreign Worker    6.737044    1  9.443096e-03"
      ]
     },
     "execution_count": 73,
     "metadata": {},
     "output_type": "execute_result"
    }
   ],
   "source": [
    "pdf=pd.DataFrame({'All':csvDF.columns[1:],'PValues':r.pValues.values,'Chi^2':r.statistics.values,'D.F':r.degreesOfFreedom})\n",
    "pdf.head(21)"
   ]
  },
  {
   "cell_type": "code",
   "execution_count": 74,
   "metadata": {},
   "outputs": [
    {
     "data": {
      "text/html": [
       "<div>\n",
       "<style>\n",
       "    .dataframe thead tr:only-child th {\n",
       "        text-align: right;\n",
       "    }\n",
       "\n",
       "    .dataframe thead th {\n",
       "        text-align: left;\n",
       "    }\n",
       "\n",
       "    .dataframe tbody tr th {\n",
       "        vertical-align: top;\n",
       "    }\n",
       "</style>\n",
       "<table border=\"1\" class=\"dataframe\">\n",
       "  <thead>\n",
       "    <tr style=\"text-align: right;\">\n",
       "      <th></th>\n",
       "      <th>features</th>\n",
       "      <th>label</th>\n",
       "    </tr>\n",
       "  </thead>\n",
       "  <tbody>\n",
       "    <tr>\n",
       "      <th>0</th>\n",
       "      <td>[1.0, 18.0, 4.0, 2.0, 1049.0, 1.0, 2.0, 4.0, 2...</td>\n",
       "      <td>1.0</td>\n",
       "    </tr>\n",
       "    <tr>\n",
       "      <th>1</th>\n",
       "      <td>[1.0, 9.0, 4.0, 0.0, 2799.0, 1.0, 3.0, 2.0, 3....</td>\n",
       "      <td>1.0</td>\n",
       "    </tr>\n",
       "    <tr>\n",
       "      <th>2</th>\n",
       "      <td>[2.0, 12.0, 2.0, 9.0, 841.0, 2.0, 4.0, 2.0, 2....</td>\n",
       "      <td>1.0</td>\n",
       "    </tr>\n",
       "    <tr>\n",
       "      <th>3</th>\n",
       "      <td>[1.0, 12.0, 4.0, 0.0, 2122.0, 1.0, 3.0, 3.0, 3...</td>\n",
       "      <td>1.0</td>\n",
       "    </tr>\n",
       "    <tr>\n",
       "      <th>4</th>\n",
       "      <td>[1.0, 12.0, 4.0, 0.0, 2171.0, 1.0, 3.0, 4.0, 3...</td>\n",
       "      <td>1.0</td>\n",
       "    </tr>\n",
       "  </tbody>\n",
       "</table>\n",
       "</div>"
      ],
      "text/plain": [
       "                                            features  label\n",
       "0  [1.0, 18.0, 4.0, 2.0, 1049.0, 1.0, 2.0, 4.0, 2...    1.0\n",
       "1  [1.0, 9.0, 4.0, 0.0, 2799.0, 1.0, 3.0, 2.0, 3....    1.0\n",
       "2  [2.0, 12.0, 2.0, 9.0, 841.0, 2.0, 4.0, 2.0, 2....    1.0\n",
       "3  [1.0, 12.0, 4.0, 0.0, 2122.0, 1.0, 3.0, 3.0, 3...    1.0\n",
       "4  [1.0, 12.0, 4.0, 0.0, 2171.0, 1.0, 3.0, 4.0, 3...    1.0"
      ]
     },
     "execution_count": 74,
     "metadata": {},
     "output_type": "execute_result"
    }
   ],
   "source": [
    "dataPanda = data.toPandas()\n",
    "dataPanda.head(5)"
   ]
  },
  {
   "cell_type": "code",
   "execution_count": 75,
   "metadata": {},
   "outputs": [],
   "source": [
    "(trainingData, testData) = data.randomSplit([0.7, 0.3])"
   ]
  },
  {
   "cell_type": "markdown",
   "metadata": {},
   "source": [
    "# Logistic Regression"
   ]
  },
  {
   "cell_type": "code",
   "execution_count": 376,
   "metadata": {},
   "outputs": [],
   "source": [
    "lr = LogisticRegression(labelCol=\"label\", featuresCol=\"features\", maxIter=10)\n",
    "lrModel = lr.fit(trainingData)\n",
    "predictions = lrModel.transform(testData)"
   ]
  },
  {
   "cell_type": "code",
   "execution_count": 377,
   "metadata": {},
   "outputs": [
    {
     "data": {
      "text/plain": [
       "0.7384105960264901"
      ]
     },
     "execution_count": 377,
     "metadata": {},
     "output_type": "execute_result"
    }
   ],
   "source": [
    "lrEvaluator = MulticlassClassificationEvaluator(labelCol=\"label\", predictionCol=\"prediction\", metricName=\"accuracy\")\n",
    "lrEvaluator.evaluate(predictions)"
   ]
  },
  {
   "cell_type": "code",
   "execution_count": 379,
   "metadata": {},
   "outputs": [],
   "source": [
    "paramGrid = (ParamGridBuilder()\n",
    "             .addGrid(lr.regParam, [0.01, 0.5, 2.0])\n",
    "             .addGrid(lr.elasticNetParam, [0.0, 0.5, 1.0])\n",
    "             .addGrid(lr.maxIter, [1, 5, 10])\n",
    "             .build())\n",
    "cv = CrossValidator(estimator=lr, estimatorParamMaps=paramGrid, evaluator=evaluator, numFolds=5)\n",
    "\n",
    "# Run cross validations\n",
    "cvModel = cv.fit(trainingData)\n",
    "# this will likely take a fair amount of time because of the amount of models that we're creating and testing"
   ]
  },
  {
   "cell_type": "code",
   "execution_count": 382,
   "metadata": {},
   "outputs": [
    {
     "data": {
      "text/plain": [
       "0.7350993377483444"
      ]
     },
     "execution_count": 382,
     "metadata": {},
     "output_type": "execute_result"
    }
   ],
   "source": [
    "predictions = cvModel.transform(testData)\n",
    "lrEvaluator.evaluate(predictions)\n",
    "#cvModel.bestModel"
   ]
  },
  {
   "cell_type": "code",
   "execution_count": 383,
   "metadata": {},
   "outputs": [
    {
     "data": {
      "text/plain": [
       "DenseVector([0.5315, -0.03, 0.2813, 0.0102, -0.0001, 0.2463, 0.1165, -0.3071, 0.114, 0.0578, -0.1783, -0.3089, 0.0071, 0.0124, 0.0773, -0.0895, -0.0612, -0.3011, 0.2563, -0.2391])"
      ]
     },
     "execution_count": 383,
     "metadata": {},
     "output_type": "execute_result"
    }
   ],
   "source": [
    "cvModel.bestModel.coefficients"
   ]
  },
  {
   "cell_type": "code",
   "execution_count": 384,
   "metadata": {},
   "outputs": [
    {
     "name": "stdout",
     "output_type": "stream",
     "text": [
      "Model Intercept:  0.788352163599\n"
     ]
    }
   ],
   "source": [
    "print 'Model Intercept: ', cvModel.bestModel.intercept"
   ]
  },
  {
   "cell_type": "markdown",
   "metadata": {},
   "source": [
    "# Decision Tree"
   ]
  },
  {
   "cell_type": "code",
   "execution_count": 76,
   "metadata": {},
   "outputs": [],
   "source": [
    "dt = DecisionTreeClassifier(labelCol=\"label\", featuresCol=\"features\")"
   ]
  },
  {
   "cell_type": "code",
   "execution_count": 77,
   "metadata": {},
   "outputs": [],
   "source": [
    "dtModel=dt.fit(trainingData)"
   ]
  },
  {
   "cell_type": "code",
   "execution_count": 212,
   "metadata": {},
   "outputs": [],
   "source": [
    "paramGrid = (ParamGridBuilder()\n",
    "             .addGrid(dt.maxDepth, [1,2,6,10])\n",
    "             .addGrid(dt.maxBins, [20,40,80])\n",
    "             .build())"
   ]
  },
  {
   "cell_type": "code",
   "execution_count": 215,
   "metadata": {},
   "outputs": [],
   "source": [
    "# Create 5-fold CrossValidator\n",
    "dtCv = CrossValidator(estimator=dt, estimatorParamMaps=paramGrid, evaluator=evaluator, numFolds=5)"
   ]
  },
  {
   "cell_type": "code",
   "execution_count": 216,
   "metadata": {},
   "outputs": [],
   "source": [
    "dtCvModel = dtCv.fit(trainingData)"
   ]
  },
  {
   "cell_type": "code",
   "execution_count": 225,
   "metadata": {},
   "outputs": [
    {
     "name": "stdout",
     "output_type": "stream",
     "text": [
      "numNodes =  7\n",
      "depth =  2\n"
     ]
    }
   ],
   "source": [
    "print\"numNodes = \",dtCvModel.bestModel.numNodes\n",
    "print\"depth = \", dtCvModel.bestModel.depth"
   ]
  },
  {
   "cell_type": "code",
   "execution_count": 220,
   "metadata": {},
   "outputs": [],
   "source": [
    "dtPredictions = dtCvModel.transform(testData)"
   ]
  },
  {
   "cell_type": "code",
   "execution_count": 221,
   "metadata": {},
   "outputs": [
    {
     "data": {
      "text/plain": [
       "0.7119205298013245"
      ]
     },
     "execution_count": 221,
     "metadata": {},
     "output_type": "execute_result"
    }
   ],
   "source": [
    "dtEvaluator = MulticlassClassificationEvaluator(labelCol=\"label\", predictionCol=\"prediction\", metricName=\"accuracy\")\n",
    "dtEvaluator.evaluate(dtPredictions)"
   ]
  },
  {
   "cell_type": "code",
   "execution_count": 222,
   "metadata": {},
   "outputs": [
    {
     "data": {
      "text/html": [
       "<div>\n",
       "<style>\n",
       "    .dataframe thead tr:only-child th {\n",
       "        text-align: right;\n",
       "    }\n",
       "\n",
       "    .dataframe thead th {\n",
       "        text-align: left;\n",
       "    }\n",
       "\n",
       "    .dataframe tbody tr th {\n",
       "        vertical-align: top;\n",
       "    }\n",
       "</style>\n",
       "<table border=\"1\" class=\"dataframe\">\n",
       "  <thead>\n",
       "    <tr style=\"text-align: right;\">\n",
       "      <th></th>\n",
       "      <th>features</th>\n",
       "      <th>label</th>\n",
       "      <th>rawPrediction</th>\n",
       "      <th>probability</th>\n",
       "      <th>prediction</th>\n",
       "    </tr>\n",
       "  </thead>\n",
       "  <tbody>\n",
       "    <tr>\n",
       "      <th>0</th>\n",
       "      <td>[1.0, 6.0, 1.0, 6.0, 1198.0, 1.0, 5.0, 4.0, 2....</td>\n",
       "      <td>0.0</td>\n",
       "      <td>[65.0, 128.0]</td>\n",
       "      <td>[0.336787564767, 0.663212435233]</td>\n",
       "      <td>1.0</td>\n",
       "    </tr>\n",
       "    <tr>\n",
       "      <th>1</th>\n",
       "      <td>[1.0, 6.0, 2.0, 0.0, 662.0, 1.0, 2.0, 3.0, 3.0...</td>\n",
       "      <td>1.0</td>\n",
       "      <td>[65.0, 128.0]</td>\n",
       "      <td>[0.336787564767, 0.663212435233]</td>\n",
       "      <td>1.0</td>\n",
       "    </tr>\n",
       "    <tr>\n",
       "      <th>2</th>\n",
       "      <td>[1.0, 6.0, 2.0, 0.0, 1203.0, 2.0, 5.0, 3.0, 3....</td>\n",
       "      <td>1.0</td>\n",
       "      <td>[65.0, 128.0]</td>\n",
       "      <td>[0.336787564767, 0.663212435233]</td>\n",
       "      <td>1.0</td>\n",
       "    </tr>\n",
       "    <tr>\n",
       "      <th>3</th>\n",
       "      <td>[1.0, 6.0, 2.0, 2.0, 428.0, 1.0, 5.0, 2.0, 2.0...</td>\n",
       "      <td>1.0</td>\n",
       "      <td>[65.0, 128.0]</td>\n",
       "      <td>[0.336787564767, 0.663212435233]</td>\n",
       "      <td>1.0</td>\n",
       "    </tr>\n",
       "    <tr>\n",
       "      <th>4</th>\n",
       "      <td>[1.0, 6.0, 2.0, 2.0, 1374.0, 1.0, 3.0, 1.0, 3....</td>\n",
       "      <td>1.0</td>\n",
       "      <td>[65.0, 128.0]</td>\n",
       "      <td>[0.336787564767, 0.663212435233]</td>\n",
       "      <td>1.0</td>\n",
       "    </tr>\n",
       "  </tbody>\n",
       "</table>\n",
       "</div>"
      ],
      "text/plain": [
       "                                            features  label  rawPrediction  \\\n",
       "0  [1.0, 6.0, 1.0, 6.0, 1198.0, 1.0, 5.0, 4.0, 2....    0.0  [65.0, 128.0]   \n",
       "1  [1.0, 6.0, 2.0, 0.0, 662.0, 1.0, 2.0, 3.0, 3.0...    1.0  [65.0, 128.0]   \n",
       "2  [1.0, 6.0, 2.0, 0.0, 1203.0, 2.0, 5.0, 3.0, 3....    1.0  [65.0, 128.0]   \n",
       "3  [1.0, 6.0, 2.0, 2.0, 428.0, 1.0, 5.0, 2.0, 2.0...    1.0  [65.0, 128.0]   \n",
       "4  [1.0, 6.0, 2.0, 2.0, 1374.0, 1.0, 3.0, 1.0, 3....    1.0  [65.0, 128.0]   \n",
       "\n",
       "                        probability  prediction  \n",
       "0  [0.336787564767, 0.663212435233]         1.0  \n",
       "1  [0.336787564767, 0.663212435233]         1.0  \n",
       "2  [0.336787564767, 0.663212435233]         1.0  \n",
       "3  [0.336787564767, 0.663212435233]         1.0  \n",
       "4  [0.336787564767, 0.663212435233]         1.0  "
      ]
     },
     "execution_count": 222,
     "metadata": {},
     "output_type": "execute_result"
    }
   ],
   "source": [
    "dtPredictionsPanda = dtPredictions.toPandas()\n",
    "dtPredictionsPanda.head(5)"
   ]
  },
  {
   "cell_type": "code",
   "execution_count": 80,
   "metadata": {},
   "outputs": [],
   "source": [
    "def myConcat(*cols):\n",
    " return F.concat(*[F.coalesce(c, F.lit(\"*\")) for c in cols])"
   ]
  },
  {
   "cell_type": "code",
   "execution_count": 143,
   "metadata": {},
   "outputs": [
    {
     "data": {
      "text/html": [
       "<div>\n",
       "<style>\n",
       "    .dataframe thead tr:only-child th {\n",
       "        text-align: right;\n",
       "    }\n",
       "\n",
       "    .dataframe thead th {\n",
       "        text-align: left;\n",
       "    }\n",
       "\n",
       "    .dataframe tbody tr th {\n",
       "        vertical-align: top;\n",
       "    }\n",
       "</style>\n",
       "<table border=\"1\" class=\"dataframe\">\n",
       "  <thead>\n",
       "    <tr style=\"text-align: right;\">\n",
       "      <th>prediction</th>\n",
       "      <th>0.0</th>\n",
       "      <th>1.0</th>\n",
       "    </tr>\n",
       "    <tr>\n",
       "      <th>label</th>\n",
       "      <th></th>\n",
       "      <th></th>\n",
       "    </tr>\n",
       "  </thead>\n",
       "  <tbody>\n",
       "    <tr>\n",
       "      <th>0.0</th>\n",
       "      <td>46</td>\n",
       "      <td>45</td>\n",
       "    </tr>\n",
       "    <tr>\n",
       "      <th>1.0</th>\n",
       "      <td>50</td>\n",
       "      <td>161</td>\n",
       "    </tr>\n",
       "  </tbody>\n",
       "</table>\n",
       "</div>"
      ],
      "text/plain": [
       "prediction  0.0  1.0\n",
       "label               \n",
       "0.0          46   45\n",
       "1.0          50  161"
      ]
     },
     "execution_count": 143,
     "metadata": {},
     "output_type": "execute_result"
    }
   ],
   "source": [
    "dtMetricsData = dtPredictions.select(\"label\",\"prediction\")\n",
    "pandaDtMetrics=dtMetricsData.groupby(\"label\",\"prediction\").count().toPandas()\n",
    "pivotedDt = pandaDtMetrics.pivot(index='label', columns='prediction', values='count')\n",
    "pivotedDt.head(5)"
   ]
  },
  {
   "cell_type": "code",
   "execution_count": 146,
   "metadata": {},
   "outputs": [
    {
     "name": "stdout",
     "output_type": "stream",
     "text": [
      "275\n"
     ]
    }
   ],
   "source": [
    "dtPenalty=pivotedDt.values[0][1]*5+pivotedDt.values[1][0]\n",
    "print(dtPenalty)"
   ]
  },
  {
   "cell_type": "markdown",
   "metadata": {},
   "source": [
    "# Random Forest"
   ]
  },
  {
   "cell_type": "code",
   "execution_count": 31,
   "metadata": {},
   "outputs": [],
   "source": [
    "rf = RandomForestClassifier(labelCol=\"label\", featuresCol=\"features\")\n",
    "rfModel = rf.fit(trainingData)"
   ]
  },
  {
   "cell_type": "code",
   "execution_count": 33,
   "metadata": {},
   "outputs": [
    {
     "name": "stdout",
     "output_type": "stream",
     "text": [
      "number of Classes :2\n"
     ]
    }
   ],
   "source": [
    "print(\"number of Classes :\"+str(rfModel.numClasses))"
   ]
  },
  {
   "cell_type": "code",
   "execution_count": 34,
   "metadata": {},
   "outputs": [
    {
     "name": "stdout",
     "output_type": "stream",
     "text": [
      "number of Features :20\n"
     ]
    }
   ],
   "source": [
    "print(\"number of Features :\"+str(rfModel.numFeatures))"
   ]
  },
  {
   "cell_type": "code",
   "execution_count": 35,
   "metadata": {},
   "outputs": [
    {
     "name": "stdout",
     "output_type": "stream",
     "text": [
      "Total number of Nodes :960\n"
     ]
    }
   ],
   "source": [
    "print(\"Total number of Nodes :\"+str(rfModel.totalNumNodes))"
   ]
  },
  {
   "cell_type": "code",
   "execution_count": 273,
   "metadata": {},
   "outputs": [
    {
     "name": "stdout",
     "output_type": "stream",
     "text": [
      "Max Bins 32\n",
      "Max Trees 20\n",
      "Max Depth 5\n"
     ]
    }
   ],
   "source": [
    "print \"Max Bins\",rf.getMaxBins()\n",
    "\n",
    "print \"Max Trees\",rf.getNumTrees()\n",
    "print \"Max Depth\",rf.getMaxDepth()"
   ]
  },
  {
   "cell_type": "code",
   "execution_count": 241,
   "metadata": {},
   "outputs": [
    {
     "data": {
      "text/plain": [
       "0.7814569536423841"
      ]
     },
     "execution_count": 241,
     "metadata": {},
     "output_type": "execute_result"
    }
   ],
   "source": [
    "\n",
    "rfEvaluator = MulticlassClassificationEvaluator(labelCol=\"label\", predictionCol=\"prediction\", metricName=\"accuracy\")\n",
    "evaluator.evaluate(predictions)"
   ]
  },
  {
   "cell_type": "code",
   "execution_count": 323,
   "metadata": {},
   "outputs": [],
   "source": [
    "rf2 = RandomForestClassifier(labelCol=\"label\", featuresCol=\"features\")\n",
    "#rf2Model = rf2.fit(trainingData)"
   ]
  },
  {
   "cell_type": "code",
   "execution_count": 356,
   "metadata": {},
   "outputs": [],
   "source": [
    "paramGrid = (ParamGridBuilder()\n",
    "             .addGrid(rf.maxDepth, [2, 4, 6])\n",
    "             .addGrid(rf.maxBins, [20, 60])\n",
    "             .addGrid(rf.numTrees, [200])\n",
    "             .build())"
   ]
  },
  {
   "cell_type": "code",
   "execution_count": 357,
   "metadata": {},
   "outputs": [],
   "source": [
    "rfCv2 = CrossValidator(estimator=rf2, estimatorParamMaps=paramGrid, evaluator=rfEvaluator, numFolds=2)"
   ]
  },
  {
   "cell_type": "code",
   "execution_count": 358,
   "metadata": {},
   "outputs": [],
   "source": [
    "rfCv2Model = rfCv2.fit(trainingData)"
   ]
  },
  {
   "cell_type": "code",
   "execution_count": 359,
   "metadata": {},
   "outputs": [],
   "source": [
    "rf2Predictions = rfCv2Model.transform(testData)"
   ]
  },
  {
   "cell_type": "code",
   "execution_count": 360,
   "metadata": {},
   "outputs": [],
   "source": [
    "rf2Evaluator = MulticlassClassificationEvaluator(labelCol=\"label\", predictionCol=\"prediction\", metricName=\"accuracy\")\n"
   ]
  },
  {
   "cell_type": "code",
   "execution_count": 361,
   "metadata": {},
   "outputs": [
    {
     "data": {
      "text/plain": [
       "0.7019867549668874"
      ]
     },
     "execution_count": 361,
     "metadata": {},
     "output_type": "execute_result"
    }
   ],
   "source": [
    "rf2Evaluator.evaluate(rf2Predictions)\n"
   ]
  },
  {
   "cell_type": "code",
   "execution_count": 362,
   "metadata": {},
   "outputs": [
    {
     "name": "stdout",
     "output_type": "stream",
     "text": [
      "Max Trees 20\n"
     ]
    }
   ],
   "source": [
    "\n",
    "\n",
    "print \"Max Trees\",rfCv2Model.bestModel.getNumTrees\n"
   ]
  },
  {
   "cell_type": "code",
   "execution_count": 366,
   "metadata": {},
   "outputs": [
    {
     "data": {
      "text/plain": [
       "0.807"
      ]
     },
     "execution_count": 366,
     "metadata": {},
     "output_type": "execute_result"
    }
   ],
   "source": [
    "bestModel = rfCv2Model.bestModel\n",
    "finalPredictions = bestModel.transform(data)\n",
    "rf2Evaluator.evaluate(finalPredictions)"
   ]
  },
  {
   "cell_type": "code",
   "execution_count": 367,
   "metadata": {},
   "outputs": [
    {
     "name": "stdout",
     "output_type": "stream",
     "text": [
      "+--------------------+-----+--------------------+--------------------+----------+\n",
      "|            features|label|       rawPrediction|         probability|prediction|\n",
      "+--------------------+-----+--------------------+--------------------+----------+\n",
      "|[1.0,6.0,1.0,6.0,...|  0.0|[8.24908989730459...|[0.41245449486522...|       1.0|\n",
      "|[1.0,6.0,2.0,0.0,...|  1.0|[4.71417944524625...|[0.23570897226231...|       1.0|\n",
      "|[1.0,6.0,2.0,0.0,...|  1.0|[5.10177776896806...|[0.25508888844840...|       1.0|\n",
      "|[1.0,6.0,2.0,2.0,...|  1.0|[5.20193921996775...|[0.26009696099838...|       1.0|\n",
      "|[1.0,6.0,2.0,2.0,...|  1.0|[3.61548380774399...|[0.18077419038719...|       1.0|\n",
      "+--------------------+-----+--------------------+--------------------+----------+\n",
      "only showing top 5 rows\n",
      "\n"
     ]
    }
   ],
   "source": [
    "rf2Predictions.show(5)"
   ]
  },
  {
   "cell_type": "code",
   "execution_count": 368,
   "metadata": {},
   "outputs": [
    {
     "data": {
      "text/html": [
       "<div>\n",
       "<style>\n",
       "    .dataframe thead tr:only-child th {\n",
       "        text-align: right;\n",
       "    }\n",
       "\n",
       "    .dataframe thead th {\n",
       "        text-align: left;\n",
       "    }\n",
       "\n",
       "    .dataframe tbody tr th {\n",
       "        vertical-align: top;\n",
       "    }\n",
       "</style>\n",
       "<table border=\"1\" class=\"dataframe\">\n",
       "  <thead>\n",
       "    <tr style=\"text-align: right;\">\n",
       "      <th>prediction</th>\n",
       "      <th>0.0</th>\n",
       "      <th>1.0</th>\n",
       "    </tr>\n",
       "    <tr>\n",
       "      <th>label</th>\n",
       "      <th></th>\n",
       "      <th></th>\n",
       "    </tr>\n",
       "  </thead>\n",
       "  <tbody>\n",
       "    <tr>\n",
       "      <th>0.0</th>\n",
       "      <td>19</td>\n",
       "      <td>72</td>\n",
       "    </tr>\n",
       "    <tr>\n",
       "      <th>1.0</th>\n",
       "      <td>18</td>\n",
       "      <td>193</td>\n",
       "    </tr>\n",
       "  </tbody>\n",
       "</table>\n",
       "</div>"
      ],
      "text/plain": [
       "prediction  0.0  1.0\n",
       "label               \n",
       "0.0          19   72\n",
       "1.0          18  193"
      ]
     },
     "execution_count": 368,
     "metadata": {},
     "output_type": "execute_result"
    }
   ],
   "source": [
    "metricsData = rf2Predictions.select(\"label\",\"prediction\")\n",
    "sDF=metricsData.groupby(\"label\",\"prediction\").count()\n",
    "pandaSDF=sDF.toPandas()\n",
    "df2 = pandaSDF.pivot(index='label', columns='prediction', values='count')\n",
    "df2.head(5)"
   ]
  },
  {
   "cell_type": "code",
   "execution_count": 369,
   "metadata": {},
   "outputs": [
    {
     "name": "stdout",
     "output_type": "stream",
     "text": [
      "378\n"
     ]
    }
   ],
   "source": [
    "penalty=df2.values[0][1]*5+df2.values[1][0]\n",
    "print(penalty)"
   ]
  },
  {
   "cell_type": "code",
   "execution_count": 372,
   "metadata": {},
   "outputs": [
    {
     "data": {
      "image/png": "[encoded data removed]",
      "text/plain": [
       "<matplotlib.figure.Figure at 0x11177ba10>"
      ]
     },
     "metadata": {},
     "output_type": "display_data"
    }
   ],
   "source": [
    "pdf=pd.DataFrame({'All':csvDF.columns[1:],'Important':rfModel.featureImportances.values},columns=['All','Important'])\n",
    "objects = csvDF.columns[1:]\n",
    "y_pos = np.arange(len(csvDF.columns[1:]))\n",
    "performance = rfModel.featureImportances.values\n",
    "plt.barh(y_pos, performance, align='center', alpha=0.5)\n",
    "plt.yticks(y_pos, objects)\n",
    "plt.ylabel('Features')\n",
    "plt.title('Important predictor')\n",
    "\n",
    "plt.show()\n"
   ]
  },
  {
   "cell_type": "code",
   "execution_count": 373,
   "metadata": {},
   "outputs": [
    {
     "data": {
      "image/png": "[encoded data removed]",
      "text/plain": [
       "<matplotlib.figure.Figure at 0x1119bab10>"
      ]
     },
     "metadata": {},
     "output_type": "display_data"
    }
   ],
   "source": [
    "objects = ('Base-1', 'Base-2', 'Tree', 'Random Forest')\n",
    "y_pos = np.arange(len(objects))\n",
    "performance = [.7,.3,dtEvaluator.evaluate(dtPredictions),evaluator.evaluate(predictions)]\n",
    " \n",
    "plt.bar(y_pos, performance, align='center', alpha=0.5)\n",
    "plt.xticks(y_pos, objects)\n",
    "plt.ylabel('Accuracy')\n",
    "plt.title('Model Accuracy')\n",
    " \n",
    "plt.show()"
   ]
  },
  {
   "cell_type": "code",
   "execution_count": 147,
   "metadata": {},
   "outputs": [
    {
     "data": {
      "image/png": "[encoded data removed]",
      "text/plain": [
       "<matplotlib.figure.Figure at 0x10f17e150>"
      ]
     },
     "metadata": {},
     "output_type": "display_data"
    }
   ],
   "source": [
    "objects = ('Base-1', 'Base-2', 'Tree', 'Random Forest')\n",
    "y_pos = np.arange(len(objects))\n",
    "performance = [450,210,dtPenalty,penalty]\n",
    " \n",
    "plt.bar(y_pos, performance, align='center', alpha=0.5)\n",
    "plt.xticks(y_pos, objects)\n",
    "plt.ylabel('Penalty')\n",
    "plt.title('Model Penalties')\n",
    " \n",
    "plt.show()"
   ]
  },
  {
   "cell_type": "code",
   "execution_count": 211,
   "metadata": {},
   "outputs": [
    {
     "data": {
      "image/png": "[encoded data removed]",
      "text/plain": [
       "<matplotlib.figure.Figure at 0x11164dd90>"
      ]
     },
     "metadata": {},
     "output_type": "display_data"
    }
   ],
   "source": [
    "\n",
    "datax1=[.7,.3,dtEvaluator.evaluate(dtPredictions),evaluator.evaluate(predictions)]\n",
    "datay1=[0,0,0,0]\n",
    "\n",
    "datax2=[0,0,0,0]\n",
    "datay2=[450,210,dtPenalty,penalty]\n",
    "models =['Base-1','Base-2','Tree','Random Forest']\n",
    "\n",
    "fig,ax = plt.subplots()\n",
    "for i in range(len(datax1)):\n",
    "    x = (datax1[i], datax2[i])\n",
    "    y = (datay1[i], datay2[i]) \n",
    "    ax.plot(x, y,label=models[i])\n",
    "ax.legend()\n",
    "plt.title(\"Accuracy and Penalty comparision\")\n",
    "plt.xlabel(\"Accuracy\")\n",
    "plt.ylabel(\"Penalty\")\n",
    "plt.show()\n",
    "\n"
   ]
  },
  {
   "cell_type": "code",
   "execution_count": null,
   "metadata": {},
   "outputs": [],
   "source": []
  }
 ],
 "metadata": {
  "kernelspec": {
   "display_name": "Python 3",
   "language": "python",
   "name": "python3"
  },
  "language_info": {
   "codemirror_mode": {
    "name": "ipython",
    "version": 3
   },
   "file_extension": ".py",
   "mimetype": "text/x-python",
   "name": "python",
   "nbconvert_exporter": "python",
   "pygments_lexer": "ipython3",
   "version": "3.6.2"
  }
 },
 "nbformat": 4,
 "nbformat_minor": 2
}
