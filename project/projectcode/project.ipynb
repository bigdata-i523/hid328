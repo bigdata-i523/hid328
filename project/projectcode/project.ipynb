{
 "cells": [
  {
   "cell_type": "code",
   "execution_count": 5,
   "metadata": {},
   "outputs": [],
   "source": [
    "from pyspark.sql.functions import UserDefinedFunction\n",
    "from pyspark.sql.types import IntegerType\n",
    "from pyspark.sql.functions import col\n",
    "from pyspark.mllib.stat import Statistics\n",
    "from pyspark.sql.types import *\n",
    "from pyspark.sql.functions import stddev_pop, avg,stddev\n",
    "from pyspark.ml.classification import LogisticRegression, DecisionTreeClassifier\n",
    "from pyspark.ml.regression import GeneralizedLinearRegression\n",
    "from pyspark.ml import Pipeline\n",
    "from pyspark.ml.linalg import Vectors\n",
    "from pyspark.ml.evaluation import MulticlassClassificationEvaluator\n",
    "from pyspark.mllib.evaluation import MulticlassMetrics\n",
    "from pyspark.mllib.tree import DecisionTree, DecisionTreeModel\n",
    "from pyspark.mllib.regression import LabeledPoint\n",
    "from pyspark.ml.tuning import ParamGridBuilder, CrossValidator\n",
    "from pyspark.ml.classification import RandomForestClassifier\n",
    "import pyspark.sql.functions as F\n",
    "from pyspark.mllib.linalg import Matrices\n",
    "from pyspark.ml.stat import ChiSquareTest\n",
    "from pyspark.sql import SparkSession"
   ]
  },
  {
   "cell_type": "code",
   "execution_count": 6,
   "metadata": {},
   "outputs": [],
   "source": [
    "import pandas as pd\n",
    "import matplotlib.pyplot as plt\n",
    "import seaborn as sn\n",
    "import numpy as np"
   ]
  },
  {
   "cell_type": "code",
   "execution_count": 7,
   "metadata": {},
   "outputs": [],
   "source": [
    "#Data = pd.read_csv(\"https://github.com/bigdata-i523/hid328/blob/master/project/data/german_credit.csv\")\n",
    "rawData = pd.read_csv(\"../data/credit-data.csv\", header=0)"
   ]
  },
  {
   "cell_type": "code",
   "execution_count": 8,
   "metadata": {},
   "outputs": [
    {
     "data": {
      "text/html": [
       "<div>\n",
       "<style scoped>\n",
       "    .dataframe tbody tr th:only-of-type {\n",
       "        vertical-align: middle;\n",
       "    }\n",
       "\n",
       "    .dataframe tbody tr th {\n",
       "        vertical-align: top;\n",
       "    }\n",
       "\n",
       "    .dataframe thead th {\n",
       "        text-align: right;\n",
       "    }\n",
       "</style>\n",
       "<table border=\"1\" class=\"dataframe\">\n",
       "  <thead>\n",
       "    <tr style=\"text-align: right;\">\n",
       "      <th></th>\n",
       "      <th>Creditability</th>\n",
       "      <th>Account_Balance</th>\n",
       "      <th>Duration_of_Credit</th>\n",
       "      <th>Previous_Credit</th>\n",
       "      <th>Purpose</th>\n",
       "      <th>Credit_Amount</th>\n",
       "      <th>Value_Savings_Stocks</th>\n",
       "      <th>employment</th>\n",
       "      <th>Instalment_percent</th>\n",
       "      <th>Sex_MaritalStatus</th>\n",
       "      <th>...</th>\n",
       "      <th>Duration_address</th>\n",
       "      <th>asset</th>\n",
       "      <th>Age</th>\n",
       "      <th>Concurrent_Credits</th>\n",
       "      <th>Type_apartment</th>\n",
       "      <th>No_of_Credits</th>\n",
       "      <th>Occupation</th>\n",
       "      <th>dependents</th>\n",
       "      <th>Telephone</th>\n",
       "      <th>Foreign_Worker</th>\n",
       "    </tr>\n",
       "  </thead>\n",
       "  <tbody>\n",
       "    <tr>\n",
       "      <th>0</th>\n",
       "      <td>good</td>\n",
       "      <td>1</td>\n",
       "      <td>18</td>\n",
       "      <td>critical/other existing credit</td>\n",
       "      <td>used car</td>\n",
       "      <td>1049</td>\n",
       "      <td>1</td>\n",
       "      <td>2</td>\n",
       "      <td>4</td>\n",
       "      <td>male: single</td>\n",
       "      <td>...</td>\n",
       "      <td>4</td>\n",
       "      <td>2</td>\n",
       "      <td>21</td>\n",
       "      <td>3</td>\n",
       "      <td>free apartment</td>\n",
       "      <td>1</td>\n",
       "      <td>3</td>\n",
       "      <td>1</td>\n",
       "      <td>yes</td>\n",
       "      <td>yes</td>\n",
       "    </tr>\n",
       "    <tr>\n",
       "      <th>1</th>\n",
       "      <td>good</td>\n",
       "      <td>1</td>\n",
       "      <td>9</td>\n",
       "      <td>critical/other existing credit</td>\n",
       "      <td>other</td>\n",
       "      <td>2799</td>\n",
       "      <td>1</td>\n",
       "      <td>3</td>\n",
       "      <td>2</td>\n",
       "      <td>male: married / widowed</td>\n",
       "      <td>...</td>\n",
       "      <td>2</td>\n",
       "      <td>1</td>\n",
       "      <td>36</td>\n",
       "      <td>3</td>\n",
       "      <td>free apartment</td>\n",
       "      <td>2</td>\n",
       "      <td>3</td>\n",
       "      <td>2</td>\n",
       "      <td>yes</td>\n",
       "      <td>yes</td>\n",
       "    </tr>\n",
       "    <tr>\n",
       "      <th>2</th>\n",
       "      <td>good</td>\n",
       "      <td>2</td>\n",
       "      <td>12</td>\n",
       "      <td>existing paid</td>\n",
       "      <td>retraining</td>\n",
       "      <td>841</td>\n",
       "      <td>2</td>\n",
       "      <td>4</td>\n",
       "      <td>2</td>\n",
       "      <td>male: single</td>\n",
       "      <td>...</td>\n",
       "      <td>4</td>\n",
       "      <td>1</td>\n",
       "      <td>23</td>\n",
       "      <td>3</td>\n",
       "      <td>free apartment</td>\n",
       "      <td>1</td>\n",
       "      <td>2</td>\n",
       "      <td>1</td>\n",
       "      <td>yes</td>\n",
       "      <td>yes</td>\n",
       "    </tr>\n",
       "    <tr>\n",
       "      <th>3</th>\n",
       "      <td>good</td>\n",
       "      <td>1</td>\n",
       "      <td>12</td>\n",
       "      <td>critical/other existing credit</td>\n",
       "      <td>other</td>\n",
       "      <td>2122</td>\n",
       "      <td>1</td>\n",
       "      <td>3</td>\n",
       "      <td>3</td>\n",
       "      <td>male: married / widowed</td>\n",
       "      <td>...</td>\n",
       "      <td>2</td>\n",
       "      <td>1</td>\n",
       "      <td>39</td>\n",
       "      <td>3</td>\n",
       "      <td>free apartment</td>\n",
       "      <td>2</td>\n",
       "      <td>2</td>\n",
       "      <td>2</td>\n",
       "      <td>yes</td>\n",
       "      <td>no</td>\n",
       "    </tr>\n",
       "    <tr>\n",
       "      <th>4</th>\n",
       "      <td>good</td>\n",
       "      <td>1</td>\n",
       "      <td>12</td>\n",
       "      <td>critical/other existing credit</td>\n",
       "      <td>other</td>\n",
       "      <td>2171</td>\n",
       "      <td>1</td>\n",
       "      <td>3</td>\n",
       "      <td>4</td>\n",
       "      <td>male: married / widowed</td>\n",
       "      <td>...</td>\n",
       "      <td>4</td>\n",
       "      <td>2</td>\n",
       "      <td>38</td>\n",
       "      <td>1</td>\n",
       "      <td>rented flat</td>\n",
       "      <td>2</td>\n",
       "      <td>2</td>\n",
       "      <td>1</td>\n",
       "      <td>yes</td>\n",
       "      <td>no</td>\n",
       "    </tr>\n",
       "  </tbody>\n",
       "</table>\n",
       "<p>5 rows × 21 columns</p>\n",
       "</div>"
      ],
      "text/plain": [
       "  Creditability  Account_Balance  Duration_of_Credit  \\\n",
       "0          good                1                  18   \n",
       "1          good                1                   9   \n",
       "2          good                2                  12   \n",
       "3          good                1                  12   \n",
       "4          good                1                  12   \n",
       "\n",
       "                  Previous_Credit     Purpose  Credit_Amount  \\\n",
       "0  critical/other existing credit    used car           1049   \n",
       "1  critical/other existing credit       other           2799   \n",
       "2                   existing paid  retraining            841   \n",
       "3  critical/other existing credit       other           2122   \n",
       "4  critical/other existing credit       other           2171   \n",
       "\n",
       "   Value_Savings_Stocks  employment  Instalment_percent  \\\n",
       "0                     1           2                   4   \n",
       "1                     1           3                   2   \n",
       "2                     2           4                   2   \n",
       "3                     1           3                   3   \n",
       "4                     1           3                   4   \n",
       "\n",
       "         Sex_MaritalStatus      ...       Duration_address  asset  Age  \\\n",
       "0             male: single      ...                      4      2   21   \n",
       "1  male: married / widowed      ...                      2      1   36   \n",
       "2             male: single      ...                      4      1   23   \n",
       "3  male: married / widowed      ...                      2      1   39   \n",
       "4  male: married / widowed      ...                      4      2   38   \n",
       "\n",
       "   Concurrent_Credits  Type_apartment No_of_Credits  Occupation  dependents  \\\n",
       "0                   3  free apartment             1           3           1   \n",
       "1                   3  free apartment             2           3           2   \n",
       "2                   3  free apartment             1           2           1   \n",
       "3                   3  free apartment             2           2           2   \n",
       "4                   1     rented flat             2           2           1   \n",
       "\n",
       "   Telephone Foreign_Worker  \n",
       "0        yes            yes  \n",
       "1        yes            yes  \n",
       "2        yes            yes  \n",
       "3        yes             no  \n",
       "4        yes             no  \n",
       "\n",
       "[5 rows x 21 columns]"
      ]
     },
     "execution_count": 8,
     "metadata": {},
     "output_type": "execute_result"
    }
   ],
   "source": [
    "rawData.head(5)"
   ]
  },
  {
   "cell_type": "code",
   "execution_count": 9,
   "metadata": {},
   "outputs": [
    {
     "data": {
      "text/plain": [
       "(1000, 21)"
      ]
     },
     "execution_count": 9,
     "metadata": {},
     "output_type": "execute_result"
    }
   ],
   "source": [
    "rawData.shape"
   ]
  },
  {
   "cell_type": "code",
   "execution_count": 10,
   "metadata": {},
   "outputs": [],
   "source": [
    "\n",
    "rawData['Creditability'].replace({'bad':0,'good':1},inplace=True)\n"
   ]
  },
  {
   "cell_type": "code",
   "execution_count": 11,
   "metadata": {},
   "outputs": [],
   "source": [
    "rawData['Foreign_Worker'].replace({'no':2,'yes':1},inplace=True)"
   ]
  },
  {
   "cell_type": "code",
   "execution_count": 12,
   "metadata": {},
   "outputs": [],
   "source": [
    "rawData['Telephone'].replace({'no':2,'yes':1},inplace=True)"
   ]
  },
  {
   "cell_type": "code",
   "execution_count": 13,
   "metadata": {},
   "outputs": [],
   "source": [
    "def Previous_Credit_condition(value):\n",
    "    if value.strip() == 'critical/other existing credit':\n",
    "        return 4\n",
    "    if value.strip() == 'existing paid':\n",
    "        return 2\n",
    "    if value.strip() == 'all paid':\n",
    "        return 1\n",
    "    if value.strip() == 'delayed previously':\n",
    "        return 3\n",
    "    if value.strip() == 'no credits/all paid':\n",
    "        return 0\n",
    "    "
   ]
  },
  {
   "cell_type": "code",
   "execution_count": 14,
   "metadata": {},
   "outputs": [],
   "source": [
    "def Purpose_condition(value):\n",
    "    if value.strip() == 'new car':\n",
    "        return 1\n",
    "    if value.strip() == 'used car':\n",
    "        return 2\n",
    "    if value.strip() == 'items of furniture':\n",
    "        return 3\n",
    "    if value.strip() == 'radio / television':\n",
    "        return 4\n",
    "    if value.strip() == 'household appliances':\n",
    "        return 5\n",
    "    if value.strip() == 'repair':\n",
    "        return 6\n",
    "    if value.strip() == 'education':\n",
    "        return 7\n",
    "    if value.strip() == 'vacation':\n",
    "        return 8\n",
    "    if value.strip() == 'retraining':\n",
    "        return 9\n",
    "    if value.strip() == 'business':\n",
    "        return 10\n",
    "    if value.strip() == 'other':\n",
    "        return 0"
   ]
  },
  {
   "cell_type": "code",
   "execution_count": 15,
   "metadata": {},
   "outputs": [],
   "source": [
    "def Sex_MaritalStatus_condition(value):\n",
    "    if value.strip() == 'male: divorced / living apart':\n",
    "        return 1\n",
    "    if value.strip() == 'male: single':\n",
    "        return 2\n",
    "    if value.strip() == 'male: married / widowed':\n",
    "        return 3\n",
    "    if value.strip() == 'female:':\n",
    "        return 4\n",
    "    "
   ]
  },
  {
   "cell_type": "code",
   "execution_count": 16,
   "metadata": {},
   "outputs": [],
   "source": [
    "def Guarantors_condition(value):\n",
    "    if value.strip() == 'none':\n",
    "        return 1\n",
    "    if value.strip() == 'Co-Applicant':\n",
    "        return 2\n",
    "    if value.strip() == 'Guarantor':\n",
    "        return 3"
   ]
  },
  {
   "cell_type": "code",
   "execution_count": 17,
   "metadata": {},
   "outputs": [],
   "source": [
    "def Type_apartment_condition(value):\n",
    "    if value.strip() == 'free apartment':\n",
    "        return 1\n",
    "    if value.strip() == 'rented flat':\n",
    "        return 2\n",
    "    if value.strip() == 'owner-occupied flat':\n",
    "        return 3"
   ]
  },
  {
   "cell_type": "code",
   "execution_count": 18,
   "metadata": {},
   "outputs": [],
   "source": [
    "rawData['Previous_Credit'] = rawData['Previous_Credit'].apply(Previous_Credit_condition)\n",
    "rawData['Purpose'] = rawData['Purpose'].apply(Purpose_condition)\n",
    "rawData['Sex_MaritalStatus'] = rawData['Sex_MaritalStatus'].apply(Sex_MaritalStatus_condition)\n",
    "rawData['Guarantors'] = rawData['Guarantors'].apply(Guarantors_condition)\n",
    "rawData['Type_apartment'] = rawData['Type_apartment'].apply(Type_apartment_condition)"
   ]
  },
  {
   "cell_type": "code",
   "execution_count": 19,
   "metadata": {},
   "outputs": [
    {
     "data": {
      "text/html": [
       "<div>\n",
       "<style scoped>\n",
       "    .dataframe tbody tr th:only-of-type {\n",
       "        vertical-align: middle;\n",
       "    }\n",
       "\n",
       "    .dataframe tbody tr th {\n",
       "        vertical-align: top;\n",
       "    }\n",
       "\n",
       "    .dataframe thead th {\n",
       "        text-align: right;\n",
       "    }\n",
       "</style>\n",
       "<table border=\"1\" class=\"dataframe\">\n",
       "  <thead>\n",
       "    <tr style=\"text-align: right;\">\n",
       "      <th></th>\n",
       "      <th>Creditability</th>\n",
       "      <th>Account_Balance</th>\n",
       "      <th>Duration_of_Credit</th>\n",
       "      <th>Previous_Credit</th>\n",
       "      <th>Purpose</th>\n",
       "      <th>Credit_Amount</th>\n",
       "      <th>Value_Savings_Stocks</th>\n",
       "      <th>employment</th>\n",
       "      <th>Instalment_percent</th>\n",
       "      <th>Sex_MaritalStatus</th>\n",
       "      <th>...</th>\n",
       "      <th>Duration_address</th>\n",
       "      <th>asset</th>\n",
       "      <th>Age</th>\n",
       "      <th>Concurrent_Credits</th>\n",
       "      <th>Type_apartment</th>\n",
       "      <th>No_of_Credits</th>\n",
       "      <th>Occupation</th>\n",
       "      <th>dependents</th>\n",
       "      <th>Telephone</th>\n",
       "      <th>Foreign_Worker</th>\n",
       "    </tr>\n",
       "  </thead>\n",
       "  <tbody>\n",
       "    <tr>\n",
       "      <th>0</th>\n",
       "      <td>1</td>\n",
       "      <td>1</td>\n",
       "      <td>18</td>\n",
       "      <td>4</td>\n",
       "      <td>2</td>\n",
       "      <td>1049</td>\n",
       "      <td>1</td>\n",
       "      <td>2</td>\n",
       "      <td>4</td>\n",
       "      <td>2</td>\n",
       "      <td>...</td>\n",
       "      <td>4</td>\n",
       "      <td>2</td>\n",
       "      <td>21</td>\n",
       "      <td>3</td>\n",
       "      <td>1</td>\n",
       "      <td>1</td>\n",
       "      <td>3</td>\n",
       "      <td>1</td>\n",
       "      <td>1</td>\n",
       "      <td>1</td>\n",
       "    </tr>\n",
       "    <tr>\n",
       "      <th>1</th>\n",
       "      <td>1</td>\n",
       "      <td>1</td>\n",
       "      <td>9</td>\n",
       "      <td>4</td>\n",
       "      <td>0</td>\n",
       "      <td>2799</td>\n",
       "      <td>1</td>\n",
       "      <td>3</td>\n",
       "      <td>2</td>\n",
       "      <td>3</td>\n",
       "      <td>...</td>\n",
       "      <td>2</td>\n",
       "      <td>1</td>\n",
       "      <td>36</td>\n",
       "      <td>3</td>\n",
       "      <td>1</td>\n",
       "      <td>2</td>\n",
       "      <td>3</td>\n",
       "      <td>2</td>\n",
       "      <td>1</td>\n",
       "      <td>1</td>\n",
       "    </tr>\n",
       "    <tr>\n",
       "      <th>2</th>\n",
       "      <td>1</td>\n",
       "      <td>2</td>\n",
       "      <td>12</td>\n",
       "      <td>2</td>\n",
       "      <td>9</td>\n",
       "      <td>841</td>\n",
       "      <td>2</td>\n",
       "      <td>4</td>\n",
       "      <td>2</td>\n",
       "      <td>2</td>\n",
       "      <td>...</td>\n",
       "      <td>4</td>\n",
       "      <td>1</td>\n",
       "      <td>23</td>\n",
       "      <td>3</td>\n",
       "      <td>1</td>\n",
       "      <td>1</td>\n",
       "      <td>2</td>\n",
       "      <td>1</td>\n",
       "      <td>1</td>\n",
       "      <td>1</td>\n",
       "    </tr>\n",
       "    <tr>\n",
       "      <th>3</th>\n",
       "      <td>1</td>\n",
       "      <td>1</td>\n",
       "      <td>12</td>\n",
       "      <td>4</td>\n",
       "      <td>0</td>\n",
       "      <td>2122</td>\n",
       "      <td>1</td>\n",
       "      <td>3</td>\n",
       "      <td>3</td>\n",
       "      <td>3</td>\n",
       "      <td>...</td>\n",
       "      <td>2</td>\n",
       "      <td>1</td>\n",
       "      <td>39</td>\n",
       "      <td>3</td>\n",
       "      <td>1</td>\n",
       "      <td>2</td>\n",
       "      <td>2</td>\n",
       "      <td>2</td>\n",
       "      <td>1</td>\n",
       "      <td>2</td>\n",
       "    </tr>\n",
       "    <tr>\n",
       "      <th>4</th>\n",
       "      <td>1</td>\n",
       "      <td>1</td>\n",
       "      <td>12</td>\n",
       "      <td>4</td>\n",
       "      <td>0</td>\n",
       "      <td>2171</td>\n",
       "      <td>1</td>\n",
       "      <td>3</td>\n",
       "      <td>4</td>\n",
       "      <td>3</td>\n",
       "      <td>...</td>\n",
       "      <td>4</td>\n",
       "      <td>2</td>\n",
       "      <td>38</td>\n",
       "      <td>1</td>\n",
       "      <td>2</td>\n",
       "      <td>2</td>\n",
       "      <td>2</td>\n",
       "      <td>1</td>\n",
       "      <td>1</td>\n",
       "      <td>2</td>\n",
       "    </tr>\n",
       "  </tbody>\n",
       "</table>\n",
       "<p>5 rows × 21 columns</p>\n",
       "</div>"
      ],
      "text/plain": [
       "   Creditability  Account_Balance  Duration_of_Credit  Previous_Credit  \\\n",
       "0              1                1                  18                4   \n",
       "1              1                1                   9                4   \n",
       "2              1                2                  12                2   \n",
       "3              1                1                  12                4   \n",
       "4              1                1                  12                4   \n",
       "\n",
       "   Purpose  Credit_Amount  Value_Savings_Stocks  employment  \\\n",
       "0        2           1049                     1           2   \n",
       "1        0           2799                     1           3   \n",
       "2        9            841                     2           4   \n",
       "3        0           2122                     1           3   \n",
       "4        0           2171                     1           3   \n",
       "\n",
       "   Instalment_percent  Sex_MaritalStatus       ...        Duration_address  \\\n",
       "0                   4                  2       ...                       4   \n",
       "1                   2                  3       ...                       2   \n",
       "2                   2                  2       ...                       4   \n",
       "3                   3                  3       ...                       2   \n",
       "4                   4                  3       ...                       4   \n",
       "\n",
       "   asset  Age  Concurrent_Credits  Type_apartment  No_of_Credits  Occupation  \\\n",
       "0      2   21                   3               1              1           3   \n",
       "1      1   36                   3               1              2           3   \n",
       "2      1   23                   3               1              1           2   \n",
       "3      1   39                   3               1              2           2   \n",
       "4      2   38                   1               2              2           2   \n",
       "\n",
       "   dependents  Telephone  Foreign_Worker  \n",
       "0           1          1               1  \n",
       "1           2          1               1  \n",
       "2           1          1               1  \n",
       "3           2          1               2  \n",
       "4           1          1               2  \n",
       "\n",
       "[5 rows x 21 columns]"
      ]
     },
     "execution_count": 19,
     "metadata": {},
     "output_type": "execute_result"
    }
   ],
   "source": [
    "rawData.head(5)"
   ]
  },
  {
   "cell_type": "code",
   "execution_count": 20,
   "metadata": {},
   "outputs": [],
   "source": [
    "%matplotlib inline\n",
    "sn.set(color_codes=True)"
   ]
  },
  {
   "cell_type": "code",
   "execution_count": 21,
   "metadata": {},
   "outputs": [],
   "source": [
    "\n",
    "spark = SparkSession.builder.appName(\"analytics\").master(\"local\").getOrCreate()\n",
    "csvDF = spark.createDataFrame(rawData)\n",
    "#csvDF = spark.read.format(\"csv\").option(\"header\",\"true\").option(\"inferSchema\", \"true\").load(\"../data/german_credit.csv\")"
   ]
  },
  {
   "cell_type": "code",
   "execution_count": 22,
   "metadata": {},
   "outputs": [],
   "source": [
    "csvPandas=rawData"
   ]
  },
  {
   "cell_type": "code",
   "execution_count": 23,
   "metadata": {},
   "outputs": [
    {
     "data": {
      "text/html": [
       "<div>\n",
       "<style scoped>\n",
       "    .dataframe tbody tr th:only-of-type {\n",
       "        vertical-align: middle;\n",
       "    }\n",
       "\n",
       "    .dataframe tbody tr th {\n",
       "        vertical-align: top;\n",
       "    }\n",
       "\n",
       "    .dataframe thead th {\n",
       "        text-align: right;\n",
       "    }\n",
       "</style>\n",
       "<table border=\"1\" class=\"dataframe\">\n",
       "  <thead>\n",
       "    <tr style=\"text-align: right;\">\n",
       "      <th></th>\n",
       "      <th>Creditability</th>\n",
       "      <th>Account_Balance</th>\n",
       "      <th>Duration_of_Credit</th>\n",
       "      <th>Previous_Credit</th>\n",
       "      <th>Purpose</th>\n",
       "      <th>Credit_Amount</th>\n",
       "      <th>Value_Savings_Stocks</th>\n",
       "      <th>employment</th>\n",
       "      <th>Instalment_percent</th>\n",
       "      <th>Sex_MaritalStatus</th>\n",
       "      <th>...</th>\n",
       "      <th>Duration_address</th>\n",
       "      <th>asset</th>\n",
       "      <th>Age</th>\n",
       "      <th>Concurrent_Credits</th>\n",
       "      <th>Type_apartment</th>\n",
       "      <th>No_of_Credits</th>\n",
       "      <th>Occupation</th>\n",
       "      <th>dependents</th>\n",
       "      <th>Telephone</th>\n",
       "      <th>Foreign_Worker</th>\n",
       "    </tr>\n",
       "  </thead>\n",
       "  <tbody>\n",
       "    <tr>\n",
       "      <th>0</th>\n",
       "      <td>1</td>\n",
       "      <td>1</td>\n",
       "      <td>18</td>\n",
       "      <td>4</td>\n",
       "      <td>2</td>\n",
       "      <td>1049</td>\n",
       "      <td>1</td>\n",
       "      <td>2</td>\n",
       "      <td>4</td>\n",
       "      <td>2</td>\n",
       "      <td>...</td>\n",
       "      <td>4</td>\n",
       "      <td>2</td>\n",
       "      <td>21</td>\n",
       "      <td>3</td>\n",
       "      <td>1</td>\n",
       "      <td>1</td>\n",
       "      <td>3</td>\n",
       "      <td>1</td>\n",
       "      <td>1</td>\n",
       "      <td>1</td>\n",
       "    </tr>\n",
       "    <tr>\n",
       "      <th>1</th>\n",
       "      <td>1</td>\n",
       "      <td>1</td>\n",
       "      <td>9</td>\n",
       "      <td>4</td>\n",
       "      <td>0</td>\n",
       "      <td>2799</td>\n",
       "      <td>1</td>\n",
       "      <td>3</td>\n",
       "      <td>2</td>\n",
       "      <td>3</td>\n",
       "      <td>...</td>\n",
       "      <td>2</td>\n",
       "      <td>1</td>\n",
       "      <td>36</td>\n",
       "      <td>3</td>\n",
       "      <td>1</td>\n",
       "      <td>2</td>\n",
       "      <td>3</td>\n",
       "      <td>2</td>\n",
       "      <td>1</td>\n",
       "      <td>1</td>\n",
       "    </tr>\n",
       "    <tr>\n",
       "      <th>2</th>\n",
       "      <td>1</td>\n",
       "      <td>2</td>\n",
       "      <td>12</td>\n",
       "      <td>2</td>\n",
       "      <td>9</td>\n",
       "      <td>841</td>\n",
       "      <td>2</td>\n",
       "      <td>4</td>\n",
       "      <td>2</td>\n",
       "      <td>2</td>\n",
       "      <td>...</td>\n",
       "      <td>4</td>\n",
       "      <td>1</td>\n",
       "      <td>23</td>\n",
       "      <td>3</td>\n",
       "      <td>1</td>\n",
       "      <td>1</td>\n",
       "      <td>2</td>\n",
       "      <td>1</td>\n",
       "      <td>1</td>\n",
       "      <td>1</td>\n",
       "    </tr>\n",
       "    <tr>\n",
       "      <th>3</th>\n",
       "      <td>1</td>\n",
       "      <td>1</td>\n",
       "      <td>12</td>\n",
       "      <td>4</td>\n",
       "      <td>0</td>\n",
       "      <td>2122</td>\n",
       "      <td>1</td>\n",
       "      <td>3</td>\n",
       "      <td>3</td>\n",
       "      <td>3</td>\n",
       "      <td>...</td>\n",
       "      <td>2</td>\n",
       "      <td>1</td>\n",
       "      <td>39</td>\n",
       "      <td>3</td>\n",
       "      <td>1</td>\n",
       "      <td>2</td>\n",
       "      <td>2</td>\n",
       "      <td>2</td>\n",
       "      <td>1</td>\n",
       "      <td>2</td>\n",
       "    </tr>\n",
       "    <tr>\n",
       "      <th>4</th>\n",
       "      <td>1</td>\n",
       "      <td>1</td>\n",
       "      <td>12</td>\n",
       "      <td>4</td>\n",
       "      <td>0</td>\n",
       "      <td>2171</td>\n",
       "      <td>1</td>\n",
       "      <td>3</td>\n",
       "      <td>4</td>\n",
       "      <td>3</td>\n",
       "      <td>...</td>\n",
       "      <td>4</td>\n",
       "      <td>2</td>\n",
       "      <td>38</td>\n",
       "      <td>1</td>\n",
       "      <td>2</td>\n",
       "      <td>2</td>\n",
       "      <td>2</td>\n",
       "      <td>1</td>\n",
       "      <td>1</td>\n",
       "      <td>2</td>\n",
       "    </tr>\n",
       "    <tr>\n",
       "      <th>5</th>\n",
       "      <td>1</td>\n",
       "      <td>1</td>\n",
       "      <td>10</td>\n",
       "      <td>4</td>\n",
       "      <td>0</td>\n",
       "      <td>2241</td>\n",
       "      <td>1</td>\n",
       "      <td>2</td>\n",
       "      <td>1</td>\n",
       "      <td>3</td>\n",
       "      <td>...</td>\n",
       "      <td>3</td>\n",
       "      <td>1</td>\n",
       "      <td>48</td>\n",
       "      <td>3</td>\n",
       "      <td>1</td>\n",
       "      <td>2</td>\n",
       "      <td>2</td>\n",
       "      <td>2</td>\n",
       "      <td>1</td>\n",
       "      <td>2</td>\n",
       "    </tr>\n",
       "    <tr>\n",
       "      <th>6</th>\n",
       "      <td>1</td>\n",
       "      <td>1</td>\n",
       "      <td>8</td>\n",
       "      <td>4</td>\n",
       "      <td>0</td>\n",
       "      <td>3398</td>\n",
       "      <td>1</td>\n",
       "      <td>4</td>\n",
       "      <td>1</td>\n",
       "      <td>3</td>\n",
       "      <td>...</td>\n",
       "      <td>4</td>\n",
       "      <td>1</td>\n",
       "      <td>39</td>\n",
       "      <td>3</td>\n",
       "      <td>2</td>\n",
       "      <td>2</td>\n",
       "      <td>2</td>\n",
       "      <td>1</td>\n",
       "      <td>1</td>\n",
       "      <td>2</td>\n",
       "    </tr>\n",
       "    <tr>\n",
       "      <th>7</th>\n",
       "      <td>1</td>\n",
       "      <td>1</td>\n",
       "      <td>6</td>\n",
       "      <td>4</td>\n",
       "      <td>0</td>\n",
       "      <td>1361</td>\n",
       "      <td>1</td>\n",
       "      <td>2</td>\n",
       "      <td>2</td>\n",
       "      <td>3</td>\n",
       "      <td>...</td>\n",
       "      <td>4</td>\n",
       "      <td>1</td>\n",
       "      <td>40</td>\n",
       "      <td>3</td>\n",
       "      <td>2</td>\n",
       "      <td>1</td>\n",
       "      <td>2</td>\n",
       "      <td>2</td>\n",
       "      <td>1</td>\n",
       "      <td>2</td>\n",
       "    </tr>\n",
       "    <tr>\n",
       "      <th>8</th>\n",
       "      <td>1</td>\n",
       "      <td>4</td>\n",
       "      <td>18</td>\n",
       "      <td>4</td>\n",
       "      <td>3</td>\n",
       "      <td>1098</td>\n",
       "      <td>1</td>\n",
       "      <td>1</td>\n",
       "      <td>4</td>\n",
       "      <td>2</td>\n",
       "      <td>...</td>\n",
       "      <td>4</td>\n",
       "      <td>3</td>\n",
       "      <td>65</td>\n",
       "      <td>3</td>\n",
       "      <td>2</td>\n",
       "      <td>2</td>\n",
       "      <td>1</td>\n",
       "      <td>1</td>\n",
       "      <td>1</td>\n",
       "      <td>1</td>\n",
       "    </tr>\n",
       "    <tr>\n",
       "      <th>9</th>\n",
       "      <td>1</td>\n",
       "      <td>2</td>\n",
       "      <td>24</td>\n",
       "      <td>2</td>\n",
       "      <td>3</td>\n",
       "      <td>3758</td>\n",
       "      <td>3</td>\n",
       "      <td>1</td>\n",
       "      <td>1</td>\n",
       "      <td>2</td>\n",
       "      <td>...</td>\n",
       "      <td>4</td>\n",
       "      <td>4</td>\n",
       "      <td>23</td>\n",
       "      <td>3</td>\n",
       "      <td>1</td>\n",
       "      <td>1</td>\n",
       "      <td>1</td>\n",
       "      <td>1</td>\n",
       "      <td>1</td>\n",
       "      <td>1</td>\n",
       "    </tr>\n",
       "  </tbody>\n",
       "</table>\n",
       "<p>10 rows × 21 columns</p>\n",
       "</div>"
      ],
      "text/plain": [
       "   Creditability  Account_Balance  Duration_of_Credit  Previous_Credit  \\\n",
       "0              1                1                  18                4   \n",
       "1              1                1                   9                4   \n",
       "2              1                2                  12                2   \n",
       "3              1                1                  12                4   \n",
       "4              1                1                  12                4   \n",
       "5              1                1                  10                4   \n",
       "6              1                1                   8                4   \n",
       "7              1                1                   6                4   \n",
       "8              1                4                  18                4   \n",
       "9              1                2                  24                2   \n",
       "\n",
       "   Purpose  Credit_Amount  Value_Savings_Stocks  employment  \\\n",
       "0        2           1049                     1           2   \n",
       "1        0           2799                     1           3   \n",
       "2        9            841                     2           4   \n",
       "3        0           2122                     1           3   \n",
       "4        0           2171                     1           3   \n",
       "5        0           2241                     1           2   \n",
       "6        0           3398                     1           4   \n",
       "7        0           1361                     1           2   \n",
       "8        3           1098                     1           1   \n",
       "9        3           3758                     3           1   \n",
       "\n",
       "   Instalment_percent  Sex_MaritalStatus       ...        Duration_address  \\\n",
       "0                   4                  2       ...                       4   \n",
       "1                   2                  3       ...                       2   \n",
       "2                   2                  2       ...                       4   \n",
       "3                   3                  3       ...                       2   \n",
       "4                   4                  3       ...                       4   \n",
       "5                   1                  3       ...                       3   \n",
       "6                   1                  3       ...                       4   \n",
       "7                   2                  3       ...                       4   \n",
       "8                   4                  2       ...                       4   \n",
       "9                   1                  2       ...                       4   \n",
       "\n",
       "   asset  Age  Concurrent_Credits  Type_apartment  No_of_Credits  Occupation  \\\n",
       "0      2   21                   3               1              1           3   \n",
       "1      1   36                   3               1              2           3   \n",
       "2      1   23                   3               1              1           2   \n",
       "3      1   39                   3               1              2           2   \n",
       "4      2   38                   1               2              2           2   \n",
       "5      1   48                   3               1              2           2   \n",
       "6      1   39                   3               2              2           2   \n",
       "7      1   40                   3               2              1           2   \n",
       "8      3   65                   3               2              2           1   \n",
       "9      4   23                   3               1              1           1   \n",
       "\n",
       "   dependents  Telephone  Foreign_Worker  \n",
       "0           1          1               1  \n",
       "1           2          1               1  \n",
       "2           1          1               1  \n",
       "3           2          1               2  \n",
       "4           1          1               2  \n",
       "5           2          1               2  \n",
       "6           1          1               2  \n",
       "7           2          1               2  \n",
       "8           1          1               1  \n",
       "9           1          1               1  \n",
       "\n",
       "[10 rows x 21 columns]"
      ]
     },
     "execution_count": 23,
     "metadata": {},
     "output_type": "execute_result"
    }
   ],
   "source": [
    "csvPandas.head(10)"
   ]
  },
  {
   "cell_type": "code",
   "execution_count": 19,
   "metadata": {},
   "outputs": [
    {
     "data": {
      "text/plain": [
       "Text(0,0.5,'Frequency')"
      ]
     },
     "execution_count": 19,
     "metadata": {},
     "output_type": "execute_result"
    },
    {
     "data": {
      "image/png": "[encoded data removed]",
      "text/plain": [
       "<matplotlib.figure.Figure at 0x7f69f75e40f0>"
      ]
     },
     "metadata": {},
     "output_type": "display_data"
    }
   ],
   "source": [
    "sn.distplot(csvPandas.Credit_Amount, kde = False,bins=10 )\n",
    "plt.title( \"Histogram of Credit Amount Disbursed\", fontsize = 15)\n",
    "plt.ylabel( \"Frequency\")\n"
   ]
  },
  {
   "cell_type": "code",
   "execution_count": 20,
   "metadata": {},
   "outputs": [
    {
     "data": {
      "text/plain": [
       "<seaborn.axisgrid.FacetGrid at 0x7f69f7380cc0>"
      ]
     },
     "execution_count": 20,
     "metadata": {},
     "output_type": "execute_result"
    },
    {
     "data": {
      "image/png": "[encoded data removed]",
      "text/plain": [
       "<matplotlib.figure.Figure at 0x7f69f73806d8>"
      ]
     },
     "metadata": {},
     "output_type": "display_data"
    }
   ],
   "source": [
    "g = sn.FacetGrid(csvPandas, col=\"Creditability\", size = 6)\n",
    "g.map(sn.distplot, \"Credit_Amount\", kde = False, bins = 10 )"
   ]
  },
  {
   "cell_type": "code",
   "execution_count": 21,
   "metadata": {},
   "outputs": [
    {
     "data": {
      "text/plain": [
       "Text(0,0.5,'Frequency')"
      ]
     },
     "execution_count": 21,
     "metadata": {},
     "output_type": "execute_result"
    },
    {
     "data": {
      "image/png": "[encoded data removed]",
      "text/plain": [
       "<matplotlib.figure.Figure at 0x7f69f4834a58>"
      ]
     },
     "metadata": {},
     "output_type": "display_data"
    }
   ],
   "source": [
    "sn.distplot(csvPandas.Duration_of_Credit, kde = False,bins=12)\n",
    "plt.title( \"Credit Month\", fontsize = 15)\n",
    "plt.ylabel( \"Frequency\")"
   ]
  },
  {
   "cell_type": "code",
   "execution_count": 22,
   "metadata": {},
   "outputs": [
    {
     "data": {
      "text/plain": [
       "<seaborn.axisgrid.FacetGrid at 0x7f69f485e588>"
      ]
     },
     "execution_count": 22,
     "metadata": {},
     "output_type": "execute_result"
    },
    {
     "data": {
      "image/png": "[encoded data removed]",
      "text/plain": [
       "<matplotlib.figure.Figure at 0x7f69f484ba20>"
      ]
     },
     "metadata": {},
     "output_type": "display_data"
    }
   ],
   "source": [
    "g = sn.FacetGrid(csvPandas, col=\"Creditability\", size = 6)\n",
    "g.map(sn.distplot, \"Duration_of_Credit\", kde = False, bins = 12)"
   ]
  },
  {
   "cell_type": "code",
   "execution_count": 23,
   "metadata": {},
   "outputs": [
    {
     "data": {
      "text/plain": [
       "Text(0,0.5,'Frequency')"
      ]
     },
     "execution_count": 23,
     "metadata": {},
     "output_type": "execute_result"
    },
    {
     "data": {
      "image/png": "[encoded data removed]",
      "text/plain": [
       "<matplotlib.figure.Figure at 0x7f69f4642e48>"
      ]
     },
     "metadata": {},
     "output_type": "display_data"
    }
   ],
   "source": [
    "sn.distplot(csvPandas.Age, kde = False,bins=12)\n",
    "plt.title( \"Age\", fontsize = 15)\n",
    "plt.ylabel( \"Frequency\")"
   ]
  },
  {
   "cell_type": "code",
   "execution_count": 24,
   "metadata": {},
   "outputs": [
    {
     "data": {
      "text/plain": [
       "<seaborn.axisgrid.FacetGrid at 0x7fb396dc7470>"
      ]
     },
     "execution_count": 24,
     "metadata": {},
     "output_type": "execute_result"
    },
    {
     "data": {
      "image/png": "[encoded data removed]",
      "text/plain": [
       "<matplotlib.figure.Figure at 0x7fb396b0c048>"
      ]
     },
     "metadata": {},
     "output_type": "display_data"
    }
   ],
   "source": [
    "g = sn.FacetGrid(csvPandas, col=\"Creditability\", size = 6)\n",
    "g.map(sn.distplot, \"Age\", kde = False, bins = 12)"
   ]
  },
  {
   "cell_type": "code",
   "execution_count": 25,
   "metadata": {},
   "outputs": [
    {
     "name": "stdout",
     "output_type": "stream",
     "text": [
      "+-------------+-----+\n",
      "|Creditability|count|\n",
      "+-------------+-----+\n",
      "|            0|  300|\n",
      "|            1|  700|\n",
      "+-------------+-----+\n",
      "\n"
     ]
    }
   ],
   "source": [
    "csvDF.select(\"Creditability\").groupBy(\"Creditability\").count().show()"
   ]
  },
  {
   "cell_type": "code",
   "execution_count": 26,
   "metadata": {},
   "outputs": [
    {
     "data": {
      "text/html": [
       "<div>\n",
       "<style scoped>\n",
       "    .dataframe tbody tr th:only-of-type {\n",
       "        vertical-align: middle;\n",
       "    }\n",
       "\n",
       "    .dataframe tbody tr th {\n",
       "        vertical-align: top;\n",
       "    }\n",
       "\n",
       "    .dataframe thead th {\n",
       "        text-align: right;\n",
       "    }\n",
       "</style>\n",
       "<table border=\"1\" class=\"dataframe\">\n",
       "  <thead>\n",
       "    <tr style=\"text-align: right;\">\n",
       "      <th></th>\n",
       "      <th>Min</th>\n",
       "      <th>1st Qu</th>\n",
       "      <th>Median</th>\n",
       "      <th>Mean</th>\n",
       "      <th>3rd Qu</th>\n",
       "      <th>Max</th>\n",
       "    </tr>\n",
       "  </thead>\n",
       "  <tbody>\n",
       "    <tr>\n",
       "      <th>0</th>\n",
       "      <td>250</td>\n",
       "      <td>1365.5</td>\n",
       "      <td>2319.5</td>\n",
       "      <td>3271.248</td>\n",
       "      <td>3972.25</td>\n",
       "      <td>18424</td>\n",
       "    </tr>\n",
       "  </tbody>\n",
       "</table>\n",
       "</div>"
      ],
      "text/plain": [
       "   Min  1st Qu  Median      Mean   3rd Qu    Max\n",
       "0  250  1365.5  2319.5  3271.248  3972.25  18424"
      ]
     },
     "execution_count": 26,
     "metadata": {},
     "output_type": "execute_result"
    }
   ],
   "source": [
    "rows=[]\n",
    "rows.append((csvPandas['Credit_Amount'].min(),csvPandas.Credit_Amount.quantile(.25),csvPandas['Credit_Amount'].median(),csvPandas['Credit_Amount'].mean(),csvPandas.Credit_Amount.quantile(.75),csvPandas['Credit_Amount'].max()))\n",
    "crAmountPerc = pd.DataFrame(rows,columns=[\"Min\",\"1st Qu\",\"Median\",\"Mean\",\"3rd Qu\",\"Max\"])\n",
    "crAmountPerc.head()"
   ]
  },
  {
   "cell_type": "code",
   "execution_count": 327,
   "metadata": {},
   "outputs": [
    {
     "data": {
      "text/html": [
       "<div>\n",
       "<style>\n",
       "    .dataframe thead tr:only-child th {\n",
       "        text-align: right;\n",
       "    }\n",
       "\n",
       "    .dataframe thead th {\n",
       "        text-align: left;\n",
       "    }\n",
       "\n",
       "    .dataframe tbody tr th {\n",
       "        vertical-align: top;\n",
       "    }\n",
       "</style>\n",
       "<table border=\"1\" class=\"dataframe\">\n",
       "  <thead>\n",
       "    <tr style=\"text-align: right;\">\n",
       "      <th></th>\n",
       "      <th>Min</th>\n",
       "      <th>1st Qu</th>\n",
       "      <th>Median</th>\n",
       "      <th>Mean</th>\n",
       "      <th>3rd Qu</th>\n",
       "      <th>Max</th>\n",
       "    </tr>\n",
       "  </thead>\n",
       "  <tbody>\n",
       "    <tr>\n",
       "      <th>0</th>\n",
       "      <td>4</td>\n",
       "      <td>12.0</td>\n",
       "      <td>18.0</td>\n",
       "      <td>20.903</td>\n",
       "      <td>24.0</td>\n",
       "      <td>72</td>\n",
       "    </tr>\n",
       "  </tbody>\n",
       "</table>\n",
       "</div>"
      ],
      "text/plain": [
       "   Min  1st Qu  Median    Mean  3rd Qu  Max\n",
       "0    4    12.0    18.0  20.903    24.0   72"
      ]
     },
     "execution_count": 327,
     "metadata": {},
     "output_type": "execute_result"
    }
   ],
   "source": [
    "dcrows=[]\n",
    "dcrows.append((csvPandas['Duration_of_Credit'].min(),csvPandas.Duration_of_Credit.quantile(.25),csvPandas['Duration_of_Credit'].median(),csvPandas['Duration_of_Credit'].mean(),csvPandas.Duration_of_Credit.quantile(.75),csvPandas['Duration_of_Credit'].max()))\n",
    "dcPerc = pd.DataFrame(dcrows,columns=[\"Min\",\"1st Qu\",\"Median\",\"Mean\",\"3rd Qu\",\"Max\"])\n",
    "dcPerc.head()"
   ]
  },
  {
   "cell_type": "code",
   "execution_count": 328,
   "metadata": {},
   "outputs": [
    {
     "data": {
      "text/html": [
       "<div>\n",
       "<style>\n",
       "    .dataframe thead tr:only-child th {\n",
       "        text-align: right;\n",
       "    }\n",
       "\n",
       "    .dataframe thead th {\n",
       "        text-align: left;\n",
       "    }\n",
       "\n",
       "    .dataframe tbody tr th {\n",
       "        vertical-align: top;\n",
       "    }\n",
       "</style>\n",
       "<table border=\"1\" class=\"dataframe\">\n",
       "  <thead>\n",
       "    <tr style=\"text-align: right;\">\n",
       "      <th></th>\n",
       "      <th>Min</th>\n",
       "      <th>1st Qu</th>\n",
       "      <th>Median</th>\n",
       "      <th>Mean</th>\n",
       "      <th>3rd Qu</th>\n",
       "      <th>Max</th>\n",
       "    </tr>\n",
       "  </thead>\n",
       "  <tbody>\n",
       "    <tr>\n",
       "      <th>0</th>\n",
       "      <td>19</td>\n",
       "      <td>27.0</td>\n",
       "      <td>33.0</td>\n",
       "      <td>35.542</td>\n",
       "      <td>42.0</td>\n",
       "      <td>75</td>\n",
       "    </tr>\n",
       "  </tbody>\n",
       "</table>\n",
       "</div>"
      ],
      "text/plain": [
       "   Min  1st Qu  Median    Mean  3rd Qu  Max\n",
       "0   19    27.0    33.0  35.542    42.0   75"
      ]
     },
     "execution_count": 328,
     "metadata": {},
     "output_type": "execute_result"
    }
   ],
   "source": [
    "Agerows=[]\n",
    "Agerows.append((csvPandas['Age'].min(),csvPandas.Age.quantile(.25),csvPandas['Age'].median(),csvPandas['Age'].mean(),csvPandas.Age.quantile(.75),csvPandas['Age'].max()))\n",
    "agePerc = pd.DataFrame(Agerows,columns=[\"Min\",\"1st Qu\",\"Median\",\"Mean\",\"3rd Qu\",\"Max\"])\n",
    "agePerc.head()"
   ]
  },
  {
   "cell_type": "code",
   "execution_count": 329,
   "metadata": {},
   "outputs": [],
   "source": [
    "data=csvDF.rdd.map(lambda x:(Vectors.dense(x[1:]), float(x[0]))).toDF([\"features\", \"label\"])"
   ]
  },
  {
   "cell_type": "code",
   "execution_count": 330,
   "metadata": {},
   "outputs": [],
   "source": [
    "r = ChiSquareTest.test(data, \"features\", \"label\").head()"
   ]
  },
  {
   "cell_type": "code",
   "execution_count": 331,
   "metadata": {},
   "outputs": [
    {
     "data": {
      "text/html": [
       "<div>\n",
       "<style>\n",
       "    .dataframe thead tr:only-child th {\n",
       "        text-align: right;\n",
       "    }\n",
       "\n",
       "    .dataframe thead th {\n",
       "        text-align: left;\n",
       "    }\n",
       "\n",
       "    .dataframe tbody tr th {\n",
       "        vertical-align: top;\n",
       "    }\n",
       "</style>\n",
       "<table border=\"1\" class=\"dataframe\">\n",
       "  <thead>\n",
       "    <tr style=\"text-align: right;\">\n",
       "      <th></th>\n",
       "      <th>All</th>\n",
       "      <th>Chi^2</th>\n",
       "      <th>D.F</th>\n",
       "      <th>PValues</th>\n",
       "    </tr>\n",
       "  </thead>\n",
       "  <tbody>\n",
       "    <tr>\n",
       "      <th>0</th>\n",
       "      <td>Account_Balance</td>\n",
       "      <td>123.720944</td>\n",
       "      <td>3</td>\n",
       "      <td>0.000000e+00</td>\n",
       "    </tr>\n",
       "    <tr>\n",
       "      <th>1</th>\n",
       "      <td>Duration_of_Credit</td>\n",
       "      <td>78.886937</td>\n",
       "      <td>32</td>\n",
       "      <td>7.784572e-06</td>\n",
       "    </tr>\n",
       "    <tr>\n",
       "      <th>2</th>\n",
       "      <td>Previous_Credit</td>\n",
       "      <td>61.691397</td>\n",
       "      <td>4</td>\n",
       "      <td>1.279199e-12</td>\n",
       "    </tr>\n",
       "    <tr>\n",
       "      <th>3</th>\n",
       "      <td>Purpose</td>\n",
       "      <td>33.356447</td>\n",
       "      <td>9</td>\n",
       "      <td>1.157491e-04</td>\n",
       "    </tr>\n",
       "    <tr>\n",
       "      <th>4</th>\n",
       "      <td>Credit_Amount</td>\n",
       "      <td>931.746032</td>\n",
       "      <td>922</td>\n",
       "      <td>4.045155e-01</td>\n",
       "    </tr>\n",
       "    <tr>\n",
       "      <th>5</th>\n",
       "      <td>Value_Savings_Stocks</td>\n",
       "      <td>36.098928</td>\n",
       "      <td>4</td>\n",
       "      <td>2.761214e-07</td>\n",
       "    </tr>\n",
       "    <tr>\n",
       "      <th>6</th>\n",
       "      <td>employment</td>\n",
       "      <td>18.368274</td>\n",
       "      <td>4</td>\n",
       "      <td>1.045452e-03</td>\n",
       "    </tr>\n",
       "    <tr>\n",
       "      <th>7</th>\n",
       "      <td>Instalment_percent</td>\n",
       "      <td>5.476792</td>\n",
       "      <td>3</td>\n",
       "      <td>1.400333e-01</td>\n",
       "    </tr>\n",
       "    <tr>\n",
       "      <th>8</th>\n",
       "      <td>Sex_MaritalStatus</td>\n",
       "      <td>9.605214</td>\n",
       "      <td>3</td>\n",
       "      <td>2.223801e-02</td>\n",
       "    </tr>\n",
       "    <tr>\n",
       "      <th>9</th>\n",
       "      <td>Guarantors</td>\n",
       "      <td>6.645367</td>\n",
       "      <td>2</td>\n",
       "      <td>3.605595e-02</td>\n",
       "    </tr>\n",
       "    <tr>\n",
       "      <th>10</th>\n",
       "      <td>Duration_address</td>\n",
       "      <td>0.749296</td>\n",
       "      <td>3</td>\n",
       "      <td>8.615521e-01</td>\n",
       "    </tr>\n",
       "    <tr>\n",
       "      <th>11</th>\n",
       "      <td>asset</td>\n",
       "      <td>23.719551</td>\n",
       "      <td>3</td>\n",
       "      <td>2.858442e-05</td>\n",
       "    </tr>\n",
       "    <tr>\n",
       "      <th>12</th>\n",
       "      <td>Age</td>\n",
       "      <td>57.626982</td>\n",
       "      <td>52</td>\n",
       "      <td>2.749531e-01</td>\n",
       "    </tr>\n",
       "    <tr>\n",
       "      <th>13</th>\n",
       "      <td>Concurrent_Credits</td>\n",
       "      <td>12.839188</td>\n",
       "      <td>2</td>\n",
       "      <td>1.629318e-03</td>\n",
       "    </tr>\n",
       "    <tr>\n",
       "      <th>14</th>\n",
       "      <td>Type_apartment</td>\n",
       "      <td>18.674005</td>\n",
       "      <td>2</td>\n",
       "      <td>8.810311e-05</td>\n",
       "    </tr>\n",
       "    <tr>\n",
       "      <th>15</th>\n",
       "      <td>No_of_Credits</td>\n",
       "      <td>2.671198</td>\n",
       "      <td>3</td>\n",
       "      <td>4.451441e-01</td>\n",
       "    </tr>\n",
       "    <tr>\n",
       "      <th>16</th>\n",
       "      <td>Occupation</td>\n",
       "      <td>1.885156</td>\n",
       "      <td>3</td>\n",
       "      <td>5.965816e-01</td>\n",
       "    </tr>\n",
       "    <tr>\n",
       "      <th>17</th>\n",
       "      <td>dependents</td>\n",
       "      <td>0.009089</td>\n",
       "      <td>1</td>\n",
       "      <td>9.240463e-01</td>\n",
       "    </tr>\n",
       "    <tr>\n",
       "      <th>18</th>\n",
       "      <td>Telephone</td>\n",
       "      <td>1.329783</td>\n",
       "      <td>1</td>\n",
       "      <td>2.488438e-01</td>\n",
       "    </tr>\n",
       "    <tr>\n",
       "      <th>19</th>\n",
       "      <td>Foreign_Worker</td>\n",
       "      <td>6.737044</td>\n",
       "      <td>1</td>\n",
       "      <td>9.443096e-03</td>\n",
       "    </tr>\n",
       "  </tbody>\n",
       "</table>\n",
       "</div>"
      ],
      "text/plain": [
       "                     All       Chi^2  D.F       PValues\n",
       "0        Account_Balance  123.720944    3  0.000000e+00\n",
       "1     Duration_of_Credit   78.886937   32  7.784572e-06\n",
       "2        Previous_Credit   61.691397    4  1.279199e-12\n",
       "3                Purpose   33.356447    9  1.157491e-04\n",
       "4          Credit_Amount  931.746032  922  4.045155e-01\n",
       "5   Value_Savings_Stocks   36.098928    4  2.761214e-07\n",
       "6             employment   18.368274    4  1.045452e-03\n",
       "7     Instalment_percent    5.476792    3  1.400333e-01\n",
       "8      Sex_MaritalStatus    9.605214    3  2.223801e-02\n",
       "9             Guarantors    6.645367    2  3.605595e-02\n",
       "10      Duration_address    0.749296    3  8.615521e-01\n",
       "11                 asset   23.719551    3  2.858442e-05\n",
       "12                   Age   57.626982   52  2.749531e-01\n",
       "13    Concurrent_Credits   12.839188    2  1.629318e-03\n",
       "14        Type_apartment   18.674005    2  8.810311e-05\n",
       "15         No_of_Credits    2.671198    3  4.451441e-01\n",
       "16            Occupation    1.885156    3  5.965816e-01\n",
       "17            dependents    0.009089    1  9.240463e-01\n",
       "18             Telephone    1.329783    1  2.488438e-01\n",
       "19        Foreign_Worker    6.737044    1  9.443096e-03"
      ]
     },
     "execution_count": 331,
     "metadata": {},
     "output_type": "execute_result"
    }
   ],
   "source": [
    "pdf=pd.DataFrame({'All':csvDF.columns[1:],'PValues':r.pValues.values,'Chi^2':r.statistics.values,'D.F':r.degreesOfFreedom})\n",
    "pdf.head(21)"
   ]
  },
  {
   "cell_type": "code",
   "execution_count": 332,
   "metadata": {},
   "outputs": [
    {
     "data": {
      "text/html": [
       "<div>\n",
       "<style>\n",
       "    .dataframe thead tr:only-child th {\n",
       "        text-align: right;\n",
       "    }\n",
       "\n",
       "    .dataframe thead th {\n",
       "        text-align: left;\n",
       "    }\n",
       "\n",
       "    .dataframe tbody tr th {\n",
       "        vertical-align: top;\n",
       "    }\n",
       "</style>\n",
       "<table border=\"1\" class=\"dataframe\">\n",
       "  <thead>\n",
       "    <tr style=\"text-align: right;\">\n",
       "      <th></th>\n",
       "      <th>features</th>\n",
       "      <th>label</th>\n",
       "    </tr>\n",
       "  </thead>\n",
       "  <tbody>\n",
       "    <tr>\n",
       "      <th>0</th>\n",
       "      <td>[1.0, 18.0, 4.0, 2.0, 1049.0, 1.0, 2.0, 4.0, 2...</td>\n",
       "      <td>1.0</td>\n",
       "    </tr>\n",
       "    <tr>\n",
       "      <th>1</th>\n",
       "      <td>[1.0, 9.0, 4.0, 0.0, 2799.0, 1.0, 3.0, 2.0, 3....</td>\n",
       "      <td>1.0</td>\n",
       "    </tr>\n",
       "    <tr>\n",
       "      <th>2</th>\n",
       "      <td>[2.0, 12.0, 2.0, 9.0, 841.0, 2.0, 4.0, 2.0, 2....</td>\n",
       "      <td>1.0</td>\n",
       "    </tr>\n",
       "    <tr>\n",
       "      <th>3</th>\n",
       "      <td>[1.0, 12.0, 4.0, 0.0, 2122.0, 1.0, 3.0, 3.0, 3...</td>\n",
       "      <td>1.0</td>\n",
       "    </tr>\n",
       "    <tr>\n",
       "      <th>4</th>\n",
       "      <td>[1.0, 12.0, 4.0, 0.0, 2171.0, 1.0, 3.0, 4.0, 3...</td>\n",
       "      <td>1.0</td>\n",
       "    </tr>\n",
       "  </tbody>\n",
       "</table>\n",
       "</div>"
      ],
      "text/plain": [
       "                                            features  label\n",
       "0  [1.0, 18.0, 4.0, 2.0, 1049.0, 1.0, 2.0, 4.0, 2...    1.0\n",
       "1  [1.0, 9.0, 4.0, 0.0, 2799.0, 1.0, 3.0, 2.0, 3....    1.0\n",
       "2  [2.0, 12.0, 2.0, 9.0, 841.0, 2.0, 4.0, 2.0, 2....    1.0\n",
       "3  [1.0, 12.0, 4.0, 0.0, 2122.0, 1.0, 3.0, 3.0, 3...    1.0\n",
       "4  [1.0, 12.0, 4.0, 0.0, 2171.0, 1.0, 3.0, 4.0, 3...    1.0"
      ]
     },
     "execution_count": 332,
     "metadata": {},
     "output_type": "execute_result"
    }
   ],
   "source": [
    "dataPanda = data.toPandas()\n",
    "dataPanda.head(5)"
   ]
  },
  {
   "cell_type": "code",
   "execution_count": 333,
   "metadata": {},
   "outputs": [],
   "source": [
    "(trainingData, testData) = data.randomSplit([0.7, 0.3])"
   ]
  },
  {
   "cell_type": "markdown",
   "metadata": {},
   "source": [
    "# Logistic Regression"
   ]
  },
  {
   "cell_type": "code",
   "execution_count": 334,
   "metadata": {},
   "outputs": [],
   "source": [
    "lrEvaluator = MulticlassClassificationEvaluator(labelCol=\"label\", predictionCol=\"prediction\", metricName=\"accuracy\")"
   ]
  },
  {
   "cell_type": "code",
   "execution_count": 335,
   "metadata": {},
   "outputs": [
    {
     "data": {
      "text/plain": [
       "0.752442996742671"
      ]
     },
     "execution_count": 335,
     "metadata": {},
     "output_type": "execute_result"
    }
   ],
   "source": [
    "lr = LogisticRegression(labelCol=\"label\", featuresCol=\"features\", maxIter=10)\n",
    "lrModel = lr.fit(trainingData)\n",
    "lrPredictions = lrModel.transform(testData)\n",
    "lrEvaluator.evaluate(lrPredictions)"
   ]
  },
  {
   "cell_type": "code",
   "execution_count": 336,
   "metadata": {},
   "outputs": [
    {
     "data": {
      "text/html": [
       "<div>\n",
       "<style>\n",
       "    .dataframe thead tr:only-child th {\n",
       "        text-align: right;\n",
       "    }\n",
       "\n",
       "    .dataframe thead th {\n",
       "        text-align: left;\n",
       "    }\n",
       "\n",
       "    .dataframe tbody tr th {\n",
       "        vertical-align: top;\n",
       "    }\n",
       "</style>\n",
       "<table border=\"1\" class=\"dataframe\">\n",
       "  <thead>\n",
       "    <tr style=\"text-align: right;\">\n",
       "      <th>prediction</th>\n",
       "      <th>0.0</th>\n",
       "      <th>1.0</th>\n",
       "    </tr>\n",
       "    <tr>\n",
       "      <th>label</th>\n",
       "      <th></th>\n",
       "      <th></th>\n",
       "    </tr>\n",
       "  </thead>\n",
       "  <tbody>\n",
       "    <tr>\n",
       "      <th>0.0</th>\n",
       "      <td>33</td>\n",
       "      <td>57</td>\n",
       "    </tr>\n",
       "    <tr>\n",
       "      <th>1.0</th>\n",
       "      <td>19</td>\n",
       "      <td>198</td>\n",
       "    </tr>\n",
       "  </tbody>\n",
       "</table>\n",
       "</div>"
      ],
      "text/plain": [
       "prediction  0.0  1.0\n",
       "label               \n",
       "0.0          33   57\n",
       "1.0          19  198"
      ]
     },
     "execution_count": 336,
     "metadata": {},
     "output_type": "execute_result"
    }
   ],
   "source": [
    "lrMetricsData = lrPredictions.select(\"label\",\"prediction\")\n",
    "pandaLrMetrics=lrMetricsData.groupby(\"label\",\"prediction\").count().toPandas()\n",
    "pivotedLr = pandaLrMetrics.pivot(index='label', columns='prediction', values='count')\n",
    "pivotedLr.head(5)"
   ]
  },
  {
   "cell_type": "code",
   "execution_count": 337,
   "metadata": {},
   "outputs": [
    {
     "data": {
      "text/plain": [
       "DenseVector([0.5218, -0.0329, 0.3496, -0.0089, -0.0001, 0.231, 0.1235, -0.3162, 0.1185, 0.1081, -0.1125, -0.1493, 0.0139, -0.0198, 0.1083, -0.3016, -0.1169, -0.3836, 0.1954, -0.4088])"
      ]
     },
     "execution_count": 337,
     "metadata": {},
     "output_type": "execute_result"
    }
   ],
   "source": [
    "lrModel.coefficients"
   ]
  },
  {
   "cell_type": "code",
   "execution_count": 338,
   "metadata": {},
   "outputs": [
    {
     "name": "stdout",
     "output_type": "stream",
     "text": [
      "Model Intercept:  0.754088809424\n"
     ]
    }
   ],
   "source": [
    "print 'Model Intercept: ', lrModel.intercept"
   ]
  },
  {
   "cell_type": "markdown",
   "metadata": {},
   "source": [
    "# Decision Tree"
   ]
  },
  {
   "cell_type": "code",
   "execution_count": 339,
   "metadata": {},
   "outputs": [],
   "source": [
    "dtEvaluator = MulticlassClassificationEvaluator(labelCol=\"label\", predictionCol=\"prediction\", metricName=\"accuracy\")"
   ]
  },
  {
   "cell_type": "code",
   "execution_count": 340,
   "metadata": {},
   "outputs": [],
   "source": [
    "dt = DecisionTreeClassifier(labelCol=\"label\", featuresCol=\"features\",maxDepth=3,maxBins=20)"
   ]
  },
  {
   "cell_type": "code",
   "execution_count": 341,
   "metadata": {},
   "outputs": [
    {
     "data": {
      "text/plain": [
       "0.749185667752443"
      ]
     },
     "execution_count": 341,
     "metadata": {},
     "output_type": "execute_result"
    }
   ],
   "source": [
    "dtModel=dt.fit(trainingData)\n",
    "dtPredictions=dtModel.transform(testData)\n",
    "dtEvaluator.evaluate(dtPredictions)"
   ]
  },
  {
   "cell_type": "code",
   "execution_count": 342,
   "metadata": {},
   "outputs": [
    {
     "name": "stdout",
     "output_type": "stream",
     "text": [
      "('Bins :', 20)\n",
      "('Depth :', 3)\n"
     ]
    }
   ],
   "source": [
    "print(\"Bins :\",dt.getMaxBins())\n",
    "print(\"Depth :\",dt.getMaxDepth())"
   ]
  },
  {
   "cell_type": "code",
   "execution_count": 343,
   "metadata": {},
   "outputs": [
    {
     "data": {
      "text/html": [
       "<div>\n",
       "<style>\n",
       "    .dataframe thead tr:only-child th {\n",
       "        text-align: right;\n",
       "    }\n",
       "\n",
       "    .dataframe thead th {\n",
       "        text-align: left;\n",
       "    }\n",
       "\n",
       "    .dataframe tbody tr th {\n",
       "        vertical-align: top;\n",
       "    }\n",
       "</style>\n",
       "<table border=\"1\" class=\"dataframe\">\n",
       "  <thead>\n",
       "    <tr style=\"text-align: right;\">\n",
       "      <th></th>\n",
       "      <th>features</th>\n",
       "      <th>label</th>\n",
       "      <th>rawPrediction</th>\n",
       "      <th>probability</th>\n",
       "      <th>prediction</th>\n",
       "    </tr>\n",
       "  </thead>\n",
       "  <tbody>\n",
       "    <tr>\n",
       "      <th>0</th>\n",
       "      <td>[1.0, 6.0, 2.0, 0.0, 14896.0, 1.0, 5.0, 1.0, 3...</td>\n",
       "      <td>0.0</td>\n",
       "      <td>[35.0, 104.0]</td>\n",
       "      <td>[0.251798561151, 0.748201438849]</td>\n",
       "      <td>1.0</td>\n",
       "    </tr>\n",
       "    <tr>\n",
       "      <th>1</th>\n",
       "      <td>[1.0, 6.0, 2.0, 2.0, 1374.0, 1.0, 3.0, 1.0, 3....</td>\n",
       "      <td>1.0</td>\n",
       "      <td>[35.0, 104.0]</td>\n",
       "      <td>[0.251798561151, 0.748201438849]</td>\n",
       "      <td>1.0</td>\n",
       "    </tr>\n",
       "    <tr>\n",
       "      <th>2</th>\n",
       "      <td>[1.0, 6.0, 2.0, 3.0, 2647.0, 3.0, 3.0, 2.0, 3....</td>\n",
       "      <td>1.0</td>\n",
       "      <td>[35.0, 104.0]</td>\n",
       "      <td>[0.251798561151, 0.748201438849]</td>\n",
       "      <td>1.0</td>\n",
       "    </tr>\n",
       "    <tr>\n",
       "      <th>3</th>\n",
       "      <td>[1.0, 6.0, 4.0, 0.0, 1361.0, 1.0, 2.0, 2.0, 3....</td>\n",
       "      <td>1.0</td>\n",
       "      <td>[35.0, 104.0]</td>\n",
       "      <td>[0.251798561151, 0.748201438849]</td>\n",
       "      <td>1.0</td>\n",
       "    </tr>\n",
       "    <tr>\n",
       "      <th>4</th>\n",
       "      <td>[1.0, 6.0, 4.0, 2.0, 3384.0, 1.0, 3.0, 1.0, 1....</td>\n",
       "      <td>0.0</td>\n",
       "      <td>[35.0, 104.0]</td>\n",
       "      <td>[0.251798561151, 0.748201438849]</td>\n",
       "      <td>1.0</td>\n",
       "    </tr>\n",
       "  </tbody>\n",
       "</table>\n",
       "</div>"
      ],
      "text/plain": [
       "                                            features  label  rawPrediction  \\\n",
       "0  [1.0, 6.0, 2.0, 0.0, 14896.0, 1.0, 5.0, 1.0, 3...    0.0  [35.0, 104.0]   \n",
       "1  [1.0, 6.0, 2.0, 2.0, 1374.0, 1.0, 3.0, 1.0, 3....    1.0  [35.0, 104.0]   \n",
       "2  [1.0, 6.0, 2.0, 3.0, 2647.0, 3.0, 3.0, 2.0, 3....    1.0  [35.0, 104.0]   \n",
       "3  [1.0, 6.0, 4.0, 0.0, 1361.0, 1.0, 2.0, 2.0, 3....    1.0  [35.0, 104.0]   \n",
       "4  [1.0, 6.0, 4.0, 2.0, 3384.0, 1.0, 3.0, 1.0, 1....    0.0  [35.0, 104.0]   \n",
       "\n",
       "                        probability  prediction  \n",
       "0  [0.251798561151, 0.748201438849]         1.0  \n",
       "1  [0.251798561151, 0.748201438849]         1.0  \n",
       "2  [0.251798561151, 0.748201438849]         1.0  \n",
       "3  [0.251798561151, 0.748201438849]         1.0  \n",
       "4  [0.251798561151, 0.748201438849]         1.0  "
      ]
     },
     "execution_count": 343,
     "metadata": {},
     "output_type": "execute_result"
    }
   ],
   "source": [
    "dtPredictionsPanda = dtPredictions.toPandas()\n",
    "dtPredictionsPanda.head(5)"
   ]
  },
  {
   "cell_type": "code",
   "execution_count": 344,
   "metadata": {},
   "outputs": [
    {
     "data": {
      "text/html": [
       "<div>\n",
       "<style>\n",
       "    .dataframe thead tr:only-child th {\n",
       "        text-align: right;\n",
       "    }\n",
       "\n",
       "    .dataframe thead th {\n",
       "        text-align: left;\n",
       "    }\n",
       "\n",
       "    .dataframe tbody tr th {\n",
       "        vertical-align: top;\n",
       "    }\n",
       "</style>\n",
       "<table border=\"1\" class=\"dataframe\">\n",
       "  <thead>\n",
       "    <tr style=\"text-align: right;\">\n",
       "      <th>prediction</th>\n",
       "      <th>0.0</th>\n",
       "      <th>1.0</th>\n",
       "    </tr>\n",
       "    <tr>\n",
       "      <th>label</th>\n",
       "      <th></th>\n",
       "      <th></th>\n",
       "    </tr>\n",
       "  </thead>\n",
       "  <tbody>\n",
       "    <tr>\n",
       "      <th>0.0</th>\n",
       "      <td>39</td>\n",
       "      <td>51</td>\n",
       "    </tr>\n",
       "    <tr>\n",
       "      <th>1.0</th>\n",
       "      <td>26</td>\n",
       "      <td>191</td>\n",
       "    </tr>\n",
       "  </tbody>\n",
       "</table>\n",
       "</div>"
      ],
      "text/plain": [
       "prediction  0.0  1.0\n",
       "label               \n",
       "0.0          39   51\n",
       "1.0          26  191"
      ]
     },
     "execution_count": 344,
     "metadata": {},
     "output_type": "execute_result"
    }
   ],
   "source": [
    "dtMetricsData = dtPredictions.select(\"label\",\"prediction\")\n",
    "pandaDtMetrics=dtMetricsData.groupby(\"label\",\"prediction\").count().toPandas()\n",
    "pivotedDt = pandaDtMetrics.pivot(index='label', columns='prediction', values='count')\n",
    "pivotedDt.head(5)"
   ]
  },
  {
   "cell_type": "code",
   "execution_count": 345,
   "metadata": {},
   "outputs": [
    {
     "name": "stdout",
     "output_type": "stream",
     "text": [
      "281\n"
     ]
    }
   ],
   "source": [
    "dtPenalty=pivotedDt.values[0][1]*5+pivotedDt.values[1][0]\n",
    "print(dtPenalty)"
   ]
  },
  {
   "cell_type": "markdown",
   "metadata": {},
   "source": [
    "# Random Forest"
   ]
  },
  {
   "cell_type": "code",
   "execution_count": 346,
   "metadata": {},
   "outputs": [],
   "source": [
    "rf = RandomForestClassifier(labelCol=\"label\", featuresCol=\"features\")\n",
    "rfModel = rf.fit(trainingData)"
   ]
  },
  {
   "cell_type": "code",
   "execution_count": 347,
   "metadata": {},
   "outputs": [
    {
     "name": "stdout",
     "output_type": "stream",
     "text": [
      "number of Classes :2\n"
     ]
    }
   ],
   "source": [
    "print(\"number of Classes :\"+str(rfModel.numClasses))"
   ]
  },
  {
   "cell_type": "code",
   "execution_count": 348,
   "metadata": {},
   "outputs": [
    {
     "name": "stdout",
     "output_type": "stream",
     "text": [
      "number of Features :20\n"
     ]
    }
   ],
   "source": [
    "print(\"number of Features :\"+str(rfModel.numFeatures))"
   ]
  },
  {
   "cell_type": "code",
   "execution_count": 349,
   "metadata": {},
   "outputs": [
    {
     "name": "stdout",
     "output_type": "stream",
     "text": [
      "Total number of Nodes :954\n"
     ]
    }
   ],
   "source": [
    "print(\"Total number of Nodes :\"+str(rfModel.totalNumNodes))"
   ]
  },
  {
   "cell_type": "code",
   "execution_count": 350,
   "metadata": {},
   "outputs": [
    {
     "name": "stdout",
     "output_type": "stream",
     "text": [
      "Max Bins 32\n",
      "Max Trees 20\n",
      "Max Depth 5\n"
     ]
    }
   ],
   "source": [
    "print \"Max Bins\",rf.getMaxBins()\n",
    "\n",
    "print \"Max Trees\",rf.getNumTrees()\n",
    "print \"Max Depth\",rf.getMaxDepth()"
   ]
  },
  {
   "cell_type": "code",
   "execution_count": 351,
   "metadata": {},
   "outputs": [],
   "source": [
    "\n",
    "rfEvaluator = MulticlassClassificationEvaluator(labelCol=\"label\", predictionCol=\"prediction\", metricName=\"accuracy\")\n",
    "#evaluator.evaluate(predictions)"
   ]
  },
  {
   "cell_type": "code",
   "execution_count": 352,
   "metadata": {},
   "outputs": [],
   "source": [
    "paramGridRf = (ParamGridBuilder()\n",
    "             .addGrid(rf.maxDepth, [2, 4, 6])\n",
    "             .addGrid(rf.maxBins, [20, 60])\n",
    "             .addGrid(rf.numTrees, [200])\n",
    "             .build())"
   ]
  },
  {
   "cell_type": "code",
   "execution_count": 353,
   "metadata": {},
   "outputs": [],
   "source": [
    "rfCv = CrossValidator(estimator=rf, estimatorParamMaps=paramGridRf, evaluator=rfEvaluator, numFolds=2)"
   ]
  },
  {
   "cell_type": "code",
   "execution_count": 354,
   "metadata": {},
   "outputs": [],
   "source": [
    "rfCvModel = rfCv.fit(trainingData)"
   ]
  },
  {
   "cell_type": "code",
   "execution_count": 355,
   "metadata": {},
   "outputs": [],
   "source": [
    "rfPredictions = rfCvModel.transform(testData)"
   ]
  },
  {
   "cell_type": "code",
   "execution_count": 356,
   "metadata": {},
   "outputs": [],
   "source": [
    "rfEvaluator = MulticlassClassificationEvaluator(labelCol=\"label\", predictionCol=\"prediction\", metricName=\"accuracy\")\n"
   ]
  },
  {
   "cell_type": "code",
   "execution_count": 357,
   "metadata": {},
   "outputs": [
    {
     "data": {
      "text/plain": [
       "0.755700325732899"
      ]
     },
     "execution_count": 357,
     "metadata": {},
     "output_type": "execute_result"
    }
   ],
   "source": [
    "rfEvaluator.evaluate(rfPredictions)\n"
   ]
  },
  {
   "cell_type": "code",
   "execution_count": 358,
   "metadata": {},
   "outputs": [
    {
     "name": "stdout",
     "output_type": "stream",
     "text": [
      "Max Trees 200\n"
     ]
    }
   ],
   "source": [
    "\n",
    "\n",
    "print \"Max Trees\",rfCvModel.bestModel.getNumTrees\n"
   ]
  },
  {
   "cell_type": "code",
   "execution_count": 359,
   "metadata": {},
   "outputs": [
    {
     "data": {
      "text/plain": [
       "0.842"
      ]
     },
     "execution_count": 359,
     "metadata": {},
     "output_type": "execute_result"
    }
   ],
   "source": [
    "bestModel = rfCvModel.bestModel\n",
    "finalPredictions = bestModel.transform(data)\n",
    "rfEvaluator.evaluate(finalPredictions)"
   ]
  },
  {
   "cell_type": "code",
   "execution_count": 360,
   "metadata": {},
   "outputs": [
    {
     "name": "stdout",
     "output_type": "stream",
     "text": [
      "+--------------------+-----+--------------------+--------------------+----------+\n",
      "|            features|label|       rawPrediction|         probability|prediction|\n",
      "+--------------------+-----+--------------------+--------------------+----------+\n",
      "|[1.0,6.0,2.0,0.0,...|  0.0|[99.3872047197162...|[0.49693602359858...|       1.0|\n",
      "|[1.0,6.0,2.0,2.0,...|  1.0|[44.7516028618355...|[0.22375801430917...|       1.0|\n",
      "|[1.0,6.0,2.0,3.0,...|  1.0|[25.9733073677661...|[0.12986653683883...|       1.0|\n",
      "|[1.0,6.0,4.0,0.0,...|  1.0|[27.4420104680349...|[0.13721005234017...|       1.0|\n",
      "|[1.0,6.0,4.0,2.0,...|  0.0|[45.9512845994564...|[0.22975642299728...|       1.0|\n",
      "+--------------------+-----+--------------------+--------------------+----------+\n",
      "only showing top 5 rows\n",
      "\n"
     ]
    }
   ],
   "source": [
    "rfPredictions.show(5)"
   ]
  },
  {
   "cell_type": "code",
   "execution_count": 361,
   "metadata": {},
   "outputs": [
    {
     "data": {
      "text/html": [
       "<div>\n",
       "<style>\n",
       "    .dataframe thead tr:only-child th {\n",
       "        text-align: right;\n",
       "    }\n",
       "\n",
       "    .dataframe thead th {\n",
       "        text-align: left;\n",
       "    }\n",
       "\n",
       "    .dataframe tbody tr th {\n",
       "        vertical-align: top;\n",
       "    }\n",
       "</style>\n",
       "<table border=\"1\" class=\"dataframe\">\n",
       "  <thead>\n",
       "    <tr style=\"text-align: right;\">\n",
       "      <th>prediction</th>\n",
       "      <th>0.0</th>\n",
       "      <th>1.0</th>\n",
       "    </tr>\n",
       "    <tr>\n",
       "      <th>label</th>\n",
       "      <th></th>\n",
       "      <th></th>\n",
       "    </tr>\n",
       "  </thead>\n",
       "  <tbody>\n",
       "    <tr>\n",
       "      <th>0.0</th>\n",
       "      <td>29</td>\n",
       "      <td>61</td>\n",
       "    </tr>\n",
       "    <tr>\n",
       "      <th>1.0</th>\n",
       "      <td>14</td>\n",
       "      <td>203</td>\n",
       "    </tr>\n",
       "  </tbody>\n",
       "</table>\n",
       "</div>"
      ],
      "text/plain": [
       "prediction  0.0  1.0\n",
       "label               \n",
       "0.0          29   61\n",
       "1.0          14  203"
      ]
     },
     "execution_count": 361,
     "metadata": {},
     "output_type": "execute_result"
    }
   ],
   "source": [
    "metricsData = rfPredictions.select(\"label\",\"prediction\")\n",
    "sDF=metricsData.groupby(\"label\",\"prediction\").count()\n",
    "pandaSDF=sDF.toPandas()\n",
    "df2 = pandaSDF.pivot(index='label', columns='prediction', values='count')\n",
    "df2.head(5)"
   ]
  },
  {
   "cell_type": "code",
   "execution_count": 362,
   "metadata": {},
   "outputs": [
    {
     "name": "stdout",
     "output_type": "stream",
     "text": [
      "319\n"
     ]
    }
   ],
   "source": [
    "penalty=df2.values[0][1]*5+df2.values[1][0]\n",
    "print(penalty)"
   ]
  },
  {
   "cell_type": "code",
   "execution_count": 363,
   "metadata": {},
   "outputs": [
    {
     "data": {
      "image/png": "[encoded data removed]",
      "text/plain": [
       "<matplotlib.figure.Figure at 0x112cd2110>"
      ]
     },
     "metadata": {},
     "output_type": "display_data"
    }
   ],
   "source": [
    "pdf=pd.DataFrame({'All':csvDF.columns[1:],'Important':bestModel.featureImportances.values},columns=['All','Important'])\n",
    "objects = csvDF.columns[1:]\n",
    "y_pos = np.arange(len(csvDF.columns[1:]))\n",
    "performance = bestModel.featureImportances.values\n",
    "plt.barh(y_pos, performance, align='center', alpha=0.5)\n",
    "plt.yticks(y_pos, objects)\n",
    "plt.ylabel('Features')\n",
    "plt.title('Important predictor')\n",
    "\n",
    "plt.show()\n"
   ]
  },
  {
   "cell_type": "code",
   "execution_count": 364,
   "metadata": {},
   "outputs": [
    {
     "data": {
      "image/png": "[encoded data removed]",
      "text/plain": [
       "<matplotlib.figure.Figure at 0x112cc1290>"
      ]
     },
     "metadata": {},
     "output_type": "display_data"
    }
   ],
   "source": [
    "objects = ('Base-1', 'Base-2', 'Tree', 'Random Forest')\n",
    "y_pos = np.arange(len(objects))\n",
    "performance = [.7,.3,dtEvaluator.evaluate(dtPredictions),rfEvaluator.evaluate(rfPredictions)]\n",
    " \n",
    "plt.bar(y_pos, performance, align='center', alpha=0.5)\n",
    "plt.xticks(y_pos, objects)\n",
    "plt.ylabel('Accuracy')\n",
    "plt.title('Model Accuracy')\n",
    " \n",
    "plt.show()"
   ]
  },
  {
   "cell_type": "code",
   "execution_count": 365,
   "metadata": {},
   "outputs": [
    {
     "data": {
      "image/png": "[encoded data removed]",
      "text/plain": [
       "<matplotlib.figure.Figure at 0x112e151d0>"
      ]
     },
     "metadata": {},
     "output_type": "display_data"
    }
   ],
   "source": [
    "objects = ('Base-1', 'Base-2', 'Tree', 'Random Forest')\n",
    "y_pos = np.arange(len(objects))\n",
    "performance = [450,210,dtPenalty,penalty]\n",
    " \n",
    "plt.bar(y_pos, performance, align='center', alpha=0.5)\n",
    "plt.xticks(y_pos, objects)\n",
    "plt.ylabel('Penalty')\n",
    "plt.title('Model Penalties')\n",
    " \n",
    "plt.show()"
   ]
  },
  {
   "cell_type": "code",
   "execution_count": 366,
   "metadata": {},
   "outputs": [
    {
     "data": {
      "image/png": "[encoded data removed]",
      "text/plain": [
       "<matplotlib.figure.Figure at 0x112d15d50>"
      ]
     },
     "metadata": {},
     "output_type": "display_data"
    }
   ],
   "source": [
    "\n",
    "datax1=[.7,.3,dtEvaluator.evaluate(dtPredictions),rfEvaluator.evaluate(rfPredictions)]\n",
    "datay1=[0,0,0,0]\n",
    "\n",
    "datax2=[0,0,0,0]\n",
    "datay2=[450,210,dtPenalty,penalty]\n",
    "models =['Base-1','Base-2','Tree','Random Forest']\n",
    "\n",
    "fig,ax = plt.subplots()\n",
    "for i in range(len(datax1)):\n",
    "    x = (datax1[i], datax2[i])\n",
    "    y = (datay1[i], datay2[i]) \n",
    "    ax.plot(x, y,label=models[i])\n",
    "ax.legend()\n",
    "plt.title(\"Accuracy and Penalty comparision\")\n",
    "plt.xlabel(\"Accuracy\")\n",
    "plt.ylabel(\"Penalty\")\n",
    "plt.show()\n",
    "\n"
   ]
  },
  {
   "cell_type": "code",
   "execution_count": null,
   "metadata": {},
   "outputs": [],
   "source": []
  }
 ],
 "metadata": {
  "kernelspec": {
   "display_name": "Python 3",
   "language": "python",
   "name": "python3"
  },
  "language_info": {
   "codemirror_mode": {
    "name": "ipython",
    "version": 3
   },
   "file_extension": ".py",
   "mimetype": "text/x-python",
   "name": "python",
   "nbconvert_exporter": "python",
   "pygments_lexer": "ipython3",
   "version": "3.6.2"
  }
 },
 "nbformat": 4,
 "nbformat_minor": 2
}
