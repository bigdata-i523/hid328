{
 "cells": [
  {
   "cell_type": "markdown",
   "metadata": {},
   "source": [
    "In this program we are calculating the word frequency in a file excluding some selected words. We input 2 files. One with the data from which word frequency to be calculated and other one with the words to be excluded from the calculation."
   ]
  },
  {
   "cell_type": "code",
   "execution_count": 1,
   "metadata": {},
   "outputs": [],
   "source": [
    "#Importing pandas for data manipulation and analysis and numpy to use arrays and operate on data. \n",
    "#matplotlib for the graphical representations and sys - system specific parameters.\n",
    "import sys\n",
    "import pandas as pd\n",
    "import matplotlib.pyplot as plt\n",
    "import numpy as np"
   ]
  },
  {
   "cell_type": "code",
   "execution_count": 2,
   "metadata": {},
   "outputs": [],
   "source": [
    "#Read in data file and exclude file\n",
    "\n",
    "file = open(\"/tmp/wordfile.txt\",\"r+\")\n",
    "excludefile = open(\"/tmp/excludefile.txt\",\"r+\")\n",
    "excludewords =[]"
   ]
  },
  {
   "cell_type": "code",
   "execution_count": 3,
   "metadata": {},
   "outputs": [],
   "source": [
    "#Create array of excluded words\n",
    "\n",
    "for word in excludefile.read().split():\n",
    "    excludewords.append(word)\n",
    "excludefile.close()"
   ]
  },
  {
   "cell_type": "code",
   "execution_count": 4,
   "metadata": {},
   "outputs": [],
   "source": [
    "#Counting the words\n",
    "\n",
    "wordcount={}\n",
    "for word in file.read().split():\n",
    "        if word not in excludewords:\n",
    "            if word not in wordcount:\n",
    "                wordcount[word] = 1\n",
    "            else:\n",
    "                wordcount[word] = wordcount[word] +1\n",
    "file.close()"
   ]
  },
  {
   "cell_type": "code",
   "execution_count": 5,
   "metadata": {},
   "outputs": [],
   "source": [
    "#Convert word to data frame\n",
    "\n",
    "dataFrame=pd.DataFrame(wordcount.items())\n",
    "dataFrame = dataFrame.rename(columns={0:'word', 1:'count'})\n",
    "dataFrame['perc'] = dataFrame['count']/(dataFrame['count'].sum())*100\n",
    "dataFrame = dataFrame.sort_values(by = 'perc', ascending = False)"
   ]
  },
  {
   "cell_type": "code",
   "execution_count": 6,
   "metadata": {},
   "outputs": [
    {
     "name": "stdout",
     "output_type": "stream",
     "text": [
      "            word  count      perc\n",
      "52           the      6  7.317073\n",
      "42          term      4  4.878049\n",
      "27          that      4  4.878049\n",
      "28          This      3  3.658537\n",
      "35           not      3  3.658537\n",
      "38         class      3  3.658537\n",
      "48       project      2  2.439024\n",
      "22           you      2  2.439024\n",
      "24           can      2  2.439024\n",
      "45   programming      2  2.439024\n",
      "49   assignments      2  2.439024\n",
      "8          paper      2  2.439024\n",
      "6             an      2  2.439024\n",
      "51          does      2  2.439024\n",
      "29  assignments.      2  2.439024\n",
      "34         focus      1  1.219512\n",
      "36         truly      1  1.219512\n",
      "33   significant      1  1.219512\n",
      "37          with      1  1.219512\n",
      "43       receive      1  1.219512\n",
      "39      projects      1  1.219512\n",
      "40      electing      1  1.219512\n",
      "41            on      1  1.219512\n",
      "31       however      1  1.219512\n",
      "44       require      1  1.219512\n",
      "46       maximum      1  1.219512\n",
      "47           One      1  1.219512\n",
      "50        amount      1  1.219512\n",
      "53      requires      1  1.219512\n",
      "54         other      1  1.219512\n",
      "32          them      1  1.219512\n",
      "0            and      1  1.219512\n",
      "30      possible      1  1.219512\n",
      "1           want      1  1.219512\n",
      "2   outstanding.      1  1.219512\n",
      "3          doing      1  1.219512\n",
      "4           skip      1  1.219512\n",
      "5             it      1  1.219512\n",
      "7             as      1  1.219512\n",
      "9           have      1  1.219512\n",
      "10           any      1  1.219512\n",
      "11        class.      1  1.219512\n",
      "12          will      1  1.219512\n",
      "13     substitue      1  1.219512\n",
      "14         bonus      1  1.219512\n",
      "15           for      1  1.219512\n",
      "16      academic      1  1.219512\n",
      "17          make      1  1.219512\n",
      "18            A-      1  1.219512\n",
      "19       However      1  1.219512\n",
      "20         grade      1  1.219512\n",
      "21         going      1  1.219512\n",
      "23         Those      1  1.219512\n",
      "25            be      1  1.219512\n",
      "26            we      1  1.219512\n",
      "55          mean      1  1.219512\n"
     ]
    }
   ],
   "source": [
    "print dataFrame"
   ]
  },
  {
   "cell_type": "code",
   "execution_count": 7,
   "metadata": {},
   "outputs": [
    {
     "data": {
      "text/plain": [
       "<Container object of 10 artists>"
      ]
     },
     "execution_count": 7,
     "metadata": {},
     "output_type": "execute_result"
    }
   ],
   "source": [
    "# Retrieving top 10 words\n",
    "\n",
    "selectedwords = dataFrame['word'][:10]\n",
    "axis = np.arange(len(selectedwords))\n",
    "freqdata = dataFrame['count'][:10]\n",
    "plt.bar(axis, freqdata,color='green', align='center')"
   ]
  },
  {
   "cell_type": "code",
   "execution_count": 8,
   "metadata": {},
   "outputs": [
    {
     "data": {
      "image/png": "[encoded data removed]",
      "text/plain": [
       "<matplotlib.figure.Figure at 0x7f0b49cb2b50>"
      ]
     },
     "metadata": {},
     "output_type": "display_data"
    }
   ],
   "source": [
    "# Graph specifications\n",
    "\n",
    "plt.xticks(axis, selectedwords, rotation = 45, fontsize = 10)\n",
    "\n",
    "plt.xlabel('Word')\n",
    "plt.ylabel('count')\n",
    "plt.title('Top 10 Words')\n",
    "\n",
    "plt.show()"
   ]
  }
 ],
 "metadata": {
  "kernelspec": {
   "display_name": "Python 2",
   "language": "python",
   "name": "python2"
  },
  "language_info": {
   "codemirror_mode": {
    "name": "ipython",
    "version": 2
   },
   "file_extension": ".py",
   "mimetype": "text/x-python",
   "name": "python",
   "nbconvert_exporter": "python",
   "pygments_lexer": "ipython2",
   "version": "2.7.13"
  }
 },
 "nbformat": 4,
 "nbformat_minor": 2
}
